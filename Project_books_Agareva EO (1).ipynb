{
 "cells": [
  {
   "cell_type": "markdown",
   "id": "7e204f8d",
   "metadata": {},
   "source": [
    "# <font color = green> *Amazon Top 50 Bestselling books from 2009 to 2021*</font>\n",
    "*Топ-50 книг бест-селлеров на Амазон 2009-2021*"
   ]
  },
  {
   "cell_type": "code",
   "execution_count": 1,
   "id": "ecb8030c",
   "metadata": {
    "scrolled": true
   },
   "outputs": [
    {
     "data": {
      "text/html": [
       "<div>\n",
       "<style scoped>\n",
       "    .dataframe tbody tr th:only-of-type {\n",
       "        vertical-align: middle;\n",
       "    }\n",
       "\n",
       "    .dataframe tbody tr th {\n",
       "        vertical-align: top;\n",
       "    }\n",
       "\n",
       "    .dataframe thead th {\n",
       "        text-align: right;\n",
       "    }\n",
       "</style>\n",
       "<table border=\"1\" class=\"dataframe\">\n",
       "  <thead>\n",
       "    <tr style=\"text-align: right;\">\n",
       "      <th></th>\n",
       "      <th>Name</th>\n",
       "      <th>Author</th>\n",
       "      <th>User_rating</th>\n",
       "      <th>Reviews</th>\n",
       "      <th>Price</th>\n",
       "      <th>Year</th>\n",
       "      <th>Genre</th>\n",
       "      <th>Num_pages</th>\n",
       "    </tr>\n",
       "  </thead>\n",
       "  <tbody>\n",
       "    <tr>\n",
       "      <th>0</th>\n",
       "      <td>Act Like a Lady, Think Like a Man: What Men Re...</td>\n",
       "      <td>Steve Harvey</td>\n",
       "      <td>4.6</td>\n",
       "      <td>5013</td>\n",
       "      <td>17</td>\n",
       "      <td>2009</td>\n",
       "      <td>Non Fiction</td>\n",
       "      <td>232</td>\n",
       "    </tr>\n",
       "    <tr>\n",
       "      <th>1</th>\n",
       "      <td>Arguing with Idiots: How to Stop Small Minds a...</td>\n",
       "      <td>Glenn Beck</td>\n",
       "      <td>4.6</td>\n",
       "      <td>798</td>\n",
       "      <td>5</td>\n",
       "      <td>2009</td>\n",
       "      <td>Non Fiction</td>\n",
       "      <td>336</td>\n",
       "    </tr>\n",
       "    <tr>\n",
       "      <th>2</th>\n",
       "      <td>Breaking Dawn (The Twilight Saga, Book 4)</td>\n",
       "      <td>Stephenie Meyer</td>\n",
       "      <td>4.6</td>\n",
       "      <td>9769</td>\n",
       "      <td>13</td>\n",
       "      <td>2009</td>\n",
       "      <td>Fiction</td>\n",
       "      <td>756</td>\n",
       "    </tr>\n",
       "    <tr>\n",
       "      <th>3</th>\n",
       "      <td>Crazy Love: Overwhelmed by a Relentless God</td>\n",
       "      <td>Francis Chan</td>\n",
       "      <td>4.7</td>\n",
       "      <td>1542</td>\n",
       "      <td>14</td>\n",
       "      <td>2009</td>\n",
       "      <td>Non Fiction</td>\n",
       "      <td>187</td>\n",
       "    </tr>\n",
       "    <tr>\n",
       "      <th>4</th>\n",
       "      <td>Dead And Gone: A Sookie Stackhouse Novel (Sook...</td>\n",
       "      <td>Charlaine Harris</td>\n",
       "      <td>4.6</td>\n",
       "      <td>1541</td>\n",
       "      <td>4</td>\n",
       "      <td>2009</td>\n",
       "      <td>Fiction</td>\n",
       "      <td>320</td>\n",
       "    </tr>\n",
       "    <tr>\n",
       "      <th>...</th>\n",
       "      <td>...</td>\n",
       "      <td>...</td>\n",
       "      <td>...</td>\n",
       "      <td>...</td>\n",
       "      <td>...</td>\n",
       "      <td>...</td>\n",
       "      <td>...</td>\n",
       "      <td>...</td>\n",
       "    </tr>\n",
       "    <tr>\n",
       "      <th>645</th>\n",
       "      <td>The Very Hungry Caterpillar</td>\n",
       "      <td>Eric Carle</td>\n",
       "      <td>4.9</td>\n",
       "      <td>47260</td>\n",
       "      <td>5</td>\n",
       "      <td>2021</td>\n",
       "      <td>Fiction</td>\n",
       "      <td>26</td>\n",
       "    </tr>\n",
       "    <tr>\n",
       "      <th>646</th>\n",
       "      <td>The Wonderful Things You Will Be</td>\n",
       "      <td>Emily Winfield Martin</td>\n",
       "      <td>4.9</td>\n",
       "      <td>20920</td>\n",
       "      <td>9</td>\n",
       "      <td>2021</td>\n",
       "      <td>Fiction</td>\n",
       "      <td>36</td>\n",
       "    </tr>\n",
       "    <tr>\n",
       "      <th>647</th>\n",
       "      <td>They Both Die at the End</td>\n",
       "      <td>Adam Silvera</td>\n",
       "      <td>4.7</td>\n",
       "      <td>22602</td>\n",
       "      <td>8</td>\n",
       "      <td>2021</td>\n",
       "      <td>Fiction</td>\n",
       "      <td>389</td>\n",
       "    </tr>\n",
       "    <tr>\n",
       "      <th>648</th>\n",
       "      <td>Untamed</td>\n",
       "      <td>Glennon Doyle</td>\n",
       "      <td>4.6</td>\n",
       "      <td>49978</td>\n",
       "      <td>16</td>\n",
       "      <td>2021</td>\n",
       "      <td>Non Fiction</td>\n",
       "      <td>333</td>\n",
       "    </tr>\n",
       "    <tr>\n",
       "      <th>649</th>\n",
       "      <td>We Were Liars</td>\n",
       "      <td>E. Lockhart</td>\n",
       "      <td>4.5</td>\n",
       "      <td>34117</td>\n",
       "      <td>6</td>\n",
       "      <td>2021</td>\n",
       "      <td>Fiction</td>\n",
       "      <td>242</td>\n",
       "    </tr>\n",
       "  </tbody>\n",
       "</table>\n",
       "<p>650 rows × 8 columns</p>\n",
       "</div>"
      ],
      "text/plain": [
       "                                                  Name                 Author  \\\n",
       "0    Act Like a Lady, Think Like a Man: What Men Re...           Steve Harvey   \n",
       "1    Arguing with Idiots: How to Stop Small Minds a...             Glenn Beck   \n",
       "2            Breaking Dawn (The Twilight Saga, Book 4)        Stephenie Meyer   \n",
       "3          Crazy Love: Overwhelmed by a Relentless God           Francis Chan   \n",
       "4    Dead And Gone: A Sookie Stackhouse Novel (Sook...       Charlaine Harris   \n",
       "..                                                 ...                    ...   \n",
       "645                        The Very Hungry Caterpillar             Eric Carle   \n",
       "646                   The Wonderful Things You Will Be  Emily Winfield Martin   \n",
       "647                           They Both Die at the End           Adam Silvera   \n",
       "648                                            Untamed          Glennon Doyle   \n",
       "649                                      We Were Liars            E. Lockhart   \n",
       "\n",
       "     User_rating  Reviews  Price  Year        Genre  Num_pages  \n",
       "0            4.6     5013     17  2009  Non Fiction        232  \n",
       "1            4.6      798      5  2009  Non Fiction        336  \n",
       "2            4.6     9769     13  2009      Fiction        756  \n",
       "3            4.7     1542     14  2009  Non Fiction        187  \n",
       "4            4.6     1541      4  2009      Fiction        320  \n",
       "..           ...      ...    ...   ...          ...        ...  \n",
       "645          4.9    47260      5  2021      Fiction         26  \n",
       "646          4.9    20920      9  2021      Fiction         36  \n",
       "647          4.7    22602      8  2021      Fiction        389  \n",
       "648          4.6    49978     16  2021  Non Fiction        333  \n",
       "649          4.5    34117      6  2021      Fiction        242  \n",
       "\n",
       "[650 rows x 8 columns]"
      ]
     },
     "execution_count": 1,
     "metadata": {},
     "output_type": "execute_result"
    }
   ],
   "source": [
    "import pandas as pd\n",
    "books = pd.read_csv('Ecom/Amazon_bestsellers_2021.csv')\n",
    "books"
   ]
  },
  {
   "cell_type": "markdown",
   "id": "ff67ec42",
   "metadata": {},
   "source": [
    "Общие данные о датасете"
   ]
  },
  {
   "cell_type": "code",
   "execution_count": 2,
   "id": "8767b9de",
   "metadata": {
    "scrolled": true
   },
   "outputs": [
    {
     "name": "stdout",
     "output_type": "stream",
     "text": [
      "<class 'pandas.core.frame.DataFrame'>\n",
      "RangeIndex: 650 entries, 0 to 649\n",
      "Data columns (total 8 columns):\n",
      " #   Column       Non-Null Count  Dtype  \n",
      "---  ------       --------------  -----  \n",
      " 0   Name         650 non-null    object \n",
      " 1   Author       650 non-null    object \n",
      " 2   User_rating  650 non-null    float64\n",
      " 3   Reviews      650 non-null    int64  \n",
      " 4   Price        650 non-null    int64  \n",
      " 5   Year         650 non-null    int64  \n",
      " 6   Genre        650 non-null    object \n",
      " 7   Num_pages    650 non-null    int64  \n",
      "dtypes: float64(1), int64(4), object(3)\n",
      "memory usage: 33.1+ KB\n"
     ]
    }
   ],
   "source": [
    "books.info()\n",
    "#данные не содержат пропущенных значений, так как все стобцы содержат одинаковое кол-во информации"
   ]
  },
  {
   "cell_type": "code",
   "execution_count": 3,
   "id": "b82e9ace",
   "metadata": {},
   "outputs": [
    {
     "data": {
      "text/plain": [
       "(650, 8)"
      ]
     },
     "execution_count": 3,
     "metadata": {},
     "output_type": "execute_result"
    }
   ],
   "source": [
    "books.shape\n",
    "#датасет содержит 650 строк и 8 колонок"
   ]
  },
  {
   "cell_type": "code",
   "execution_count": 4,
   "id": "59045493",
   "metadata": {},
   "outputs": [],
   "source": [
    "books.rename(columns ={'Name':'название',\n",
    "                        'Author':' автор',\n",
    "                       'User_rating':'рейтинг',\n",
    "                       'Reviews':'обзоры','Price':'цена', 'Year':'год',\n",
    "                       'Genre':'жанр', 'Num_pages':'кол-во страниц'},inplace=True)\n",
    "\n",
    "#переведем название столбцов на русский язык"
   ]
  },
  {
   "cell_type": "code",
   "execution_count": 5,
   "id": "35e0fef3",
   "metadata": {
    "scrolled": true
   },
   "outputs": [
    {
     "data": {
      "text/html": [
       "<div>\n",
       "<style scoped>\n",
       "    .dataframe tbody tr th:only-of-type {\n",
       "        vertical-align: middle;\n",
       "    }\n",
       "\n",
       "    .dataframe tbody tr th {\n",
       "        vertical-align: top;\n",
       "    }\n",
       "\n",
       "    .dataframe thead th {\n",
       "        text-align: right;\n",
       "    }\n",
       "</style>\n",
       "<table border=\"1\" class=\"dataframe\">\n",
       "  <thead>\n",
       "    <tr style=\"text-align: right;\">\n",
       "      <th></th>\n",
       "      <th>название</th>\n",
       "      <th>автор</th>\n",
       "      <th>рейтинг</th>\n",
       "      <th>обзоры</th>\n",
       "      <th>цена</th>\n",
       "      <th>год</th>\n",
       "      <th>жанр</th>\n",
       "      <th>кол-во страниц</th>\n",
       "    </tr>\n",
       "  </thead>\n",
       "  <tbody>\n",
       "    <tr>\n",
       "      <th>0</th>\n",
       "      <td>Act Like a Lady, Think Like a Man: What Men Re...</td>\n",
       "      <td>Steve Harvey</td>\n",
       "      <td>4.6</td>\n",
       "      <td>5013</td>\n",
       "      <td>17</td>\n",
       "      <td>2009</td>\n",
       "      <td>Non Fiction</td>\n",
       "      <td>232</td>\n",
       "    </tr>\n",
       "    <tr>\n",
       "      <th>1</th>\n",
       "      <td>Arguing with Idiots: How to Stop Small Minds a...</td>\n",
       "      <td>Glenn Beck</td>\n",
       "      <td>4.6</td>\n",
       "      <td>798</td>\n",
       "      <td>5</td>\n",
       "      <td>2009</td>\n",
       "      <td>Non Fiction</td>\n",
       "      <td>336</td>\n",
       "    </tr>\n",
       "    <tr>\n",
       "      <th>2</th>\n",
       "      <td>Breaking Dawn (The Twilight Saga, Book 4)</td>\n",
       "      <td>Stephenie Meyer</td>\n",
       "      <td>4.6</td>\n",
       "      <td>9769</td>\n",
       "      <td>13</td>\n",
       "      <td>2009</td>\n",
       "      <td>Fiction</td>\n",
       "      <td>756</td>\n",
       "    </tr>\n",
       "    <tr>\n",
       "      <th>3</th>\n",
       "      <td>Crazy Love: Overwhelmed by a Relentless God</td>\n",
       "      <td>Francis Chan</td>\n",
       "      <td>4.7</td>\n",
       "      <td>1542</td>\n",
       "      <td>14</td>\n",
       "      <td>2009</td>\n",
       "      <td>Non Fiction</td>\n",
       "      <td>187</td>\n",
       "    </tr>\n",
       "    <tr>\n",
       "      <th>4</th>\n",
       "      <td>Dead And Gone: A Sookie Stackhouse Novel (Sook...</td>\n",
       "      <td>Charlaine Harris</td>\n",
       "      <td>4.6</td>\n",
       "      <td>1541</td>\n",
       "      <td>4</td>\n",
       "      <td>2009</td>\n",
       "      <td>Fiction</td>\n",
       "      <td>320</td>\n",
       "    </tr>\n",
       "  </tbody>\n",
       "</table>\n",
       "</div>"
      ],
      "text/plain": [
       "                                            название             автор  \\\n",
       "0  Act Like a Lady, Think Like a Man: What Men Re...      Steve Harvey   \n",
       "1  Arguing with Idiots: How to Stop Small Minds a...        Glenn Beck   \n",
       "2          Breaking Dawn (The Twilight Saga, Book 4)   Stephenie Meyer   \n",
       "3        Crazy Love: Overwhelmed by a Relentless God      Francis Chan   \n",
       "4  Dead And Gone: A Sookie Stackhouse Novel (Sook...  Charlaine Harris   \n",
       "\n",
       "   рейтинг  обзоры  цена   год         жанр  кол-во страниц  \n",
       "0      4.6    5013    17  2009  Non Fiction             232  \n",
       "1      4.6     798     5  2009  Non Fiction             336  \n",
       "2      4.6    9769    13  2009      Fiction             756  \n",
       "3      4.7    1542    14  2009  Non Fiction             187  \n",
       "4      4.6    1541     4  2009      Fiction             320  "
      ]
     },
     "execution_count": 5,
     "metadata": {},
     "output_type": "execute_result"
    }
   ],
   "source": [
    "books.head()"
   ]
  },
  {
   "cell_type": "code",
   "execution_count": 6,
   "id": "d740f337",
   "metadata": {},
   "outputs": [
    {
     "data": {
      "text/plain": [
       "(650, 8)"
      ]
     },
     "execution_count": 6,
     "metadata": {},
     "output_type": "execute_result"
    }
   ],
   "source": [
    "books.shape\n",
    "#датасет содержит 650 строк и 8 колонок"
   ]
  },
  {
   "cell_type": "code",
   "execution_count": 7,
   "id": "1053dc68",
   "metadata": {},
   "outputs": [
    {
     "data": {
      "text/html": [
       "<div>\n",
       "<style scoped>\n",
       "    .dataframe tbody tr th:only-of-type {\n",
       "        vertical-align: middle;\n",
       "    }\n",
       "\n",
       "    .dataframe tbody tr th {\n",
       "        vertical-align: top;\n",
       "    }\n",
       "\n",
       "    .dataframe thead th {\n",
       "        text-align: right;\n",
       "    }\n",
       "</style>\n",
       "<table border=\"1\" class=\"dataframe\">\n",
       "  <thead>\n",
       "    <tr style=\"text-align: right;\">\n",
       "      <th></th>\n",
       "      <th>название</th>\n",
       "      <th>автор</th>\n",
       "    </tr>\n",
       "  </thead>\n",
       "  <tbody>\n",
       "    <tr>\n",
       "      <th>0</th>\n",
       "      <td>Act Like a Lady, Think Like a Man: What Men Re...</td>\n",
       "      <td>Steve Harvey</td>\n",
       "    </tr>\n",
       "    <tr>\n",
       "      <th>1</th>\n",
       "      <td>Arguing with Idiots: How to Stop Small Minds a...</td>\n",
       "      <td>Glenn Beck</td>\n",
       "    </tr>\n",
       "    <tr>\n",
       "      <th>2</th>\n",
       "      <td>Breaking Dawn (The Twilight Saga, Book 4)</td>\n",
       "      <td>Stephenie Meyer</td>\n",
       "    </tr>\n",
       "    <tr>\n",
       "      <th>3</th>\n",
       "      <td>Crazy Love: Overwhelmed by a Relentless God</td>\n",
       "      <td>Francis Chan</td>\n",
       "    </tr>\n",
       "    <tr>\n",
       "      <th>4</th>\n",
       "      <td>Dead And Gone: A Sookie Stackhouse Novel (Sook...</td>\n",
       "      <td>Charlaine Harris</td>\n",
       "    </tr>\n",
       "    <tr>\n",
       "      <th>...</th>\n",
       "      <td>...</td>\n",
       "      <td>...</td>\n",
       "    </tr>\n",
       "    <tr>\n",
       "      <th>645</th>\n",
       "      <td>The Very Hungry Caterpillar</td>\n",
       "      <td>Eric Carle</td>\n",
       "    </tr>\n",
       "    <tr>\n",
       "      <th>646</th>\n",
       "      <td>The Wonderful Things You Will Be</td>\n",
       "      <td>Emily Winfield Martin</td>\n",
       "    </tr>\n",
       "    <tr>\n",
       "      <th>647</th>\n",
       "      <td>They Both Die at the End</td>\n",
       "      <td>Adam Silvera</td>\n",
       "    </tr>\n",
       "    <tr>\n",
       "      <th>648</th>\n",
       "      <td>Untamed</td>\n",
       "      <td>Glennon Doyle</td>\n",
       "    </tr>\n",
       "    <tr>\n",
       "      <th>649</th>\n",
       "      <td>We Were Liars</td>\n",
       "      <td>E. Lockhart</td>\n",
       "    </tr>\n",
       "  </tbody>\n",
       "</table>\n",
       "<p>650 rows × 2 columns</p>\n",
       "</div>"
      ],
      "text/plain": [
       "                                              название                  автор\n",
       "0    Act Like a Lady, Think Like a Man: What Men Re...           Steve Harvey\n",
       "1    Arguing with Idiots: How to Stop Small Minds a...             Glenn Beck\n",
       "2            Breaking Dawn (The Twilight Saga, Book 4)        Stephenie Meyer\n",
       "3          Crazy Love: Overwhelmed by a Relentless God           Francis Chan\n",
       "4    Dead And Gone: A Sookie Stackhouse Novel (Sook...       Charlaine Harris\n",
       "..                                                 ...                    ...\n",
       "645                        The Very Hungry Caterpillar             Eric Carle\n",
       "646                   The Wonderful Things You Will Be  Emily Winfield Martin\n",
       "647                           They Both Die at the End           Adam Silvera\n",
       "648                                            Untamed          Glennon Doyle\n",
       "649                                      We Were Liars            E. Lockhart\n",
       "\n",
       "[650 rows x 2 columns]"
      ]
     },
     "execution_count": 7,
     "metadata": {},
     "output_type": "execute_result"
    }
   ],
   "source": [
    "books[['название', ' автор']]\n",
    "#выберем только 2 колонки с навазнием книг и имя автора"
   ]
  },
  {
   "cell_type": "code",
   "execution_count": 8,
   "id": "21904f8e",
   "metadata": {},
   "outputs": [
    {
     "data": {
      "text/plain": [
       "105"
      ]
     },
     "execution_count": 8,
     "metadata": {},
     "output_type": "execute_result"
    }
   ],
   "source": [
    "books['цена'].max()\n",
    "#Самая дорогая книга стоит 105 USD"
   ]
  },
  {
   "cell_type": "code",
   "execution_count": 9,
   "id": "27395203",
   "metadata": {},
   "outputs": [
    {
     "data": {
      "text/plain": [
       "12"
      ]
     },
     "execution_count": 9,
     "metadata": {},
     "output_type": "execute_result"
    }
   ],
   "source": [
    "books['кол-во страниц'].min()\n",
    "#книга с самым маленьким кол-вом страниц"
   ]
  },
  {
   "cell_type": "code",
   "execution_count": 10,
   "id": "649a9344",
   "metadata": {},
   "outputs": [
    {
     "data": {
      "text/plain": [
       "1200"
      ]
     },
     "execution_count": 10,
     "metadata": {},
     "output_type": "execute_result"
    }
   ],
   "source": [
    "books['кол-во страниц'].max()\n",
    "#книга с самым большим кол-вом страниц"
   ]
  },
  {
   "cell_type": "code",
   "execution_count": 11,
   "id": "090b1ee8",
   "metadata": {
    "scrolled": true
   },
   "outputs": [
    {
     "data": {
      "text/plain": [
       "4.8    166\n",
       "4.7    130\n",
       "4.6    116\n",
       "4.9     70\n",
       "4.5     65\n",
       "4.4     39\n",
       "4.3     28\n",
       "4.0     15\n",
       "4.2      8\n",
       "4.1      6\n",
       "3.9      3\n",
       "3.8      2\n",
       "3.3      1\n",
       "3.6      1\n",
       "Name: рейтинг, dtype: int64"
      ]
     },
     "execution_count": 11,
     "metadata": {},
     "output_type": "execute_result"
    }
   ],
   "source": [
    "books['рейтинг'].value_counts()\n",
    "#функция value_counts фильтрует от большего значения к меньшему\n",
    "#всего рейтинг представлен градацией от 4.8 до 3.3 пунктов\n",
    "#из них с самым высоким рейтингом 4.8 представлено 166 книг, а с самым низким в выборке 3.3 - 1 книга"
   ]
  },
  {
   "cell_type": "code",
   "execution_count": 12,
   "id": "c9af5560",
   "metadata": {
    "scrolled": true
   },
   "outputs": [
    {
     "data": {
      "text/plain": [
       "array([4.6, 4.7, 4.8, 4.5, 4.3, 4.2, 4. , 4.4, 4.1, 4.9, 3.8, 3.3, 3.9,\n",
       "       3.6])"
      ]
     },
     "execution_count": 12,
     "metadata": {},
     "output_type": "execute_result"
    }
   ],
   "source": [
    "books['рейтинг'].unique()\n",
    "#перечислены уникальные значения"
   ]
  },
  {
   "cell_type": "code",
   "execution_count": 13,
   "id": "0dbf95fa",
   "metadata": {},
   "outputs": [
    {
     "data": {
      "text/plain": [
       "4.635846153846168"
      ]
     },
     "execution_count": 13,
     "metadata": {},
     "output_type": "execute_result"
    }
   ],
   "source": [
    "books['рейтинг'].mean()\n",
    "#средний рейтинг книги 4.63"
   ]
  },
  {
   "cell_type": "code",
   "execution_count": 14,
   "id": "f1dee0d4",
   "metadata": {
    "scrolled": true
   },
   "outputs": [
    {
     "data": {
      "text/plain": [
       "458    4.9\n",
       "496    4.9\n",
       "227    4.9\n",
       "242    4.9\n",
       "245    4.9\n",
       "      ... \n",
       "200    3.9\n",
       "155    3.8\n",
       "208    3.8\n",
       "316    3.6\n",
       "178    3.3\n",
       "Name: рейтинг, Length: 650, dtype: float64"
      ]
     },
     "execution_count": 14,
     "metadata": {},
     "output_type": "execute_result"
    }
   ],
   "source": [
    "books['рейтинг'].sort_values(ascending=False)\n",
    "#фильтрация данных по значению рейтинг от самого высокого к самому низкому"
   ]
  },
  {
   "cell_type": "code",
   "execution_count": 15,
   "id": "51e2204d",
   "metadata": {},
   "outputs": [
    {
     "data": {
      "text/html": [
       "<div>\n",
       "<style scoped>\n",
       "    .dataframe tbody tr th:only-of-type {\n",
       "        vertical-align: middle;\n",
       "    }\n",
       "\n",
       "    .dataframe tbody tr th {\n",
       "        vertical-align: top;\n",
       "    }\n",
       "\n",
       "    .dataframe thead th {\n",
       "        text-align: right;\n",
       "    }\n",
       "</style>\n",
       "<table border=\"1\" class=\"dataframe\">\n",
       "  <thead>\n",
       "    <tr style=\"text-align: right;\">\n",
       "      <th></th>\n",
       "      <th>название</th>\n",
       "      <th>автор</th>\n",
       "      <th>рейтинг</th>\n",
       "      <th>обзоры</th>\n",
       "      <th>цена</th>\n",
       "      <th>год</th>\n",
       "      <th>жанр</th>\n",
       "      <th>кол-во страниц</th>\n",
       "    </tr>\n",
       "  </thead>\n",
       "  <tbody>\n",
       "    <tr>\n",
       "      <th>458</th>\n",
       "      <td>Dog Man: Lord of the Fleas: From the Creator o...</td>\n",
       "      <td>Dav Pilkey</td>\n",
       "      <td>4.9</td>\n",
       "      <td>5470</td>\n",
       "      <td>6</td>\n",
       "      <td>2018</td>\n",
       "      <td>Fiction</td>\n",
       "      <td>256</td>\n",
       "    </tr>\n",
       "    <tr>\n",
       "      <th>496</th>\n",
       "      <td>The Wonderful Things You Will Be</td>\n",
       "      <td>Emily Winfield Martin</td>\n",
       "      <td>4.9</td>\n",
       "      <td>8842</td>\n",
       "      <td>10</td>\n",
       "      <td>2018</td>\n",
       "      <td>Fiction</td>\n",
       "      <td>36</td>\n",
       "    </tr>\n",
       "    <tr>\n",
       "      <th>227</th>\n",
       "      <td>Rush Revere and the Brave Pilgrims: Time-Trave...</td>\n",
       "      <td>Rush Limbaugh</td>\n",
       "      <td>4.9</td>\n",
       "      <td>7150</td>\n",
       "      <td>12</td>\n",
       "      <td>2013</td>\n",
       "      <td>Fiction</td>\n",
       "      <td>212</td>\n",
       "    </tr>\n",
       "    <tr>\n",
       "      <th>242</th>\n",
       "      <td>The Legend of Zelda: Hyrule Historia</td>\n",
       "      <td>Patrick Thorpe</td>\n",
       "      <td>4.9</td>\n",
       "      <td>5396</td>\n",
       "      <td>20</td>\n",
       "      <td>2013</td>\n",
       "      <td>Fiction</td>\n",
       "      <td>274</td>\n",
       "    </tr>\n",
       "    <tr>\n",
       "      <th>245</th>\n",
       "      <td>The Very Hungry Caterpillar</td>\n",
       "      <td>Eric Carle</td>\n",
       "      <td>4.9</td>\n",
       "      <td>19546</td>\n",
       "      <td>5</td>\n",
       "      <td>2013</td>\n",
       "      <td>Fiction</td>\n",
       "      <td>26</td>\n",
       "    </tr>\n",
       "    <tr>\n",
       "      <th>...</th>\n",
       "      <td>...</td>\n",
       "      <td>...</td>\n",
       "      <td>...</td>\n",
       "      <td>...</td>\n",
       "      <td>...</td>\n",
       "      <td>...</td>\n",
       "      <td>...</td>\n",
       "      <td>...</td>\n",
       "    </tr>\n",
       "    <tr>\n",
       "      <th>200</th>\n",
       "      <td>Allegiant</td>\n",
       "      <td>Veronica Roth</td>\n",
       "      <td>3.9</td>\n",
       "      <td>6310</td>\n",
       "      <td>13</td>\n",
       "      <td>2013</td>\n",
       "      <td>Fiction</td>\n",
       "      <td>526</td>\n",
       "    </tr>\n",
       "    <tr>\n",
       "      <th>155</th>\n",
       "      <td>Fifty Shades of Grey: Book One of the Fifty Sh...</td>\n",
       "      <td>E L James</td>\n",
       "      <td>3.8</td>\n",
       "      <td>47265</td>\n",
       "      <td>14</td>\n",
       "      <td>2012</td>\n",
       "      <td>Fiction</td>\n",
       "      <td>356</td>\n",
       "    </tr>\n",
       "    <tr>\n",
       "      <th>208</th>\n",
       "      <td>Fifty Shades of Grey: Book One of the Fifty Sh...</td>\n",
       "      <td>E L James</td>\n",
       "      <td>3.8</td>\n",
       "      <td>47265</td>\n",
       "      <td>14</td>\n",
       "      <td>2013</td>\n",
       "      <td>Fiction</td>\n",
       "      <td>356</td>\n",
       "    </tr>\n",
       "    <tr>\n",
       "      <th>316</th>\n",
       "      <td>Go Set a Watchman: A Novel</td>\n",
       "      <td>Harper Lee</td>\n",
       "      <td>3.6</td>\n",
       "      <td>14982</td>\n",
       "      <td>19</td>\n",
       "      <td>2015</td>\n",
       "      <td>Fiction</td>\n",
       "      <td>278</td>\n",
       "    </tr>\n",
       "    <tr>\n",
       "      <th>178</th>\n",
       "      <td>The Casual Vacancy</td>\n",
       "      <td>J.K. Rowling</td>\n",
       "      <td>3.3</td>\n",
       "      <td>9372</td>\n",
       "      <td>12</td>\n",
       "      <td>2012</td>\n",
       "      <td>Fiction</td>\n",
       "      <td>503</td>\n",
       "    </tr>\n",
       "  </tbody>\n",
       "</table>\n",
       "<p>650 rows × 8 columns</p>\n",
       "</div>"
      ],
      "text/plain": [
       "                                              название                  автор  \\\n",
       "458  Dog Man: Lord of the Fleas: From the Creator o...             Dav Pilkey   \n",
       "496                   The Wonderful Things You Will Be  Emily Winfield Martin   \n",
       "227  Rush Revere and the Brave Pilgrims: Time-Trave...          Rush Limbaugh   \n",
       "242               The Legend of Zelda: Hyrule Historia         Patrick Thorpe   \n",
       "245                        The Very Hungry Caterpillar             Eric Carle   \n",
       "..                                                 ...                    ...   \n",
       "200                                          Allegiant          Veronica Roth   \n",
       "155  Fifty Shades of Grey: Book One of the Fifty Sh...              E L James   \n",
       "208  Fifty Shades of Grey: Book One of the Fifty Sh...              E L James   \n",
       "316                         Go Set a Watchman: A Novel             Harper Lee   \n",
       "178                                 The Casual Vacancy           J.K. Rowling   \n",
       "\n",
       "     рейтинг  обзоры  цена   год     жанр  кол-во страниц  \n",
       "458      4.9    5470     6  2018  Fiction             256  \n",
       "496      4.9    8842    10  2018  Fiction              36  \n",
       "227      4.9    7150    12  2013  Fiction             212  \n",
       "242      4.9    5396    20  2013  Fiction             274  \n",
       "245      4.9   19546     5  2013  Fiction              26  \n",
       "..       ...     ...   ...   ...      ...             ...  \n",
       "200      3.9    6310    13  2013  Fiction             526  \n",
       "155      3.8   47265    14  2012  Fiction             356  \n",
       "208      3.8   47265    14  2013  Fiction             356  \n",
       "316      3.6   14982    19  2015  Fiction             278  \n",
       "178      3.3    9372    12  2012  Fiction             503  \n",
       "\n",
       "[650 rows x 8 columns]"
      ]
     },
     "execution_count": 15,
     "metadata": {},
     "output_type": "execute_result"
    }
   ],
   "source": [
    "books.sort_values(by = ['рейтинг'], ascending=False)\n",
    "#ранжированние данных в таблице от самого высокго значения рейтинга до самого низкого"
   ]
  },
  {
   "cell_type": "code",
   "execution_count": 16,
   "id": "9a514d84",
   "metadata": {},
   "outputs": [
    {
     "data": {
      "text/html": [
       "<div>\n",
       "<style scoped>\n",
       "    .dataframe tbody tr th:only-of-type {\n",
       "        vertical-align: middle;\n",
       "    }\n",
       "\n",
       "    .dataframe tbody tr th {\n",
       "        vertical-align: top;\n",
       "    }\n",
       "\n",
       "    .dataframe thead th {\n",
       "        text-align: right;\n",
       "    }\n",
       "</style>\n",
       "<table border=\"1\" class=\"dataframe\">\n",
       "  <thead>\n",
       "    <tr style=\"text-align: right;\">\n",
       "      <th></th>\n",
       "      <th>название</th>\n",
       "      <th>автор</th>\n",
       "      <th>рейтинг</th>\n",
       "      <th>обзоры</th>\n",
       "      <th>цена</th>\n",
       "      <th>год</th>\n",
       "      <th>жанр</th>\n",
       "      <th>кол-во страниц</th>\n",
       "    </tr>\n",
       "  </thead>\n",
       "  <tbody>\n",
       "    <tr>\n",
       "      <th>178</th>\n",
       "      <td>The Casual Vacancy</td>\n",
       "      <td>J.K. Rowling</td>\n",
       "      <td>3.3</td>\n",
       "      <td>9372</td>\n",
       "      <td>12</td>\n",
       "      <td>2012</td>\n",
       "      <td>Fiction</td>\n",
       "      <td>503</td>\n",
       "    </tr>\n",
       "    <tr>\n",
       "      <th>316</th>\n",
       "      <td>Go Set a Watchman: A Novel</td>\n",
       "      <td>Harper Lee</td>\n",
       "      <td>3.6</td>\n",
       "      <td>14982</td>\n",
       "      <td>19</td>\n",
       "      <td>2015</td>\n",
       "      <td>Fiction</td>\n",
       "      <td>278</td>\n",
       "    </tr>\n",
       "    <tr>\n",
       "      <th>208</th>\n",
       "      <td>Fifty Shades of Grey: Book One of the Fifty Sh...</td>\n",
       "      <td>E L James</td>\n",
       "      <td>3.8</td>\n",
       "      <td>47265</td>\n",
       "      <td>14</td>\n",
       "      <td>2013</td>\n",
       "      <td>Fiction</td>\n",
       "      <td>356</td>\n",
       "    </tr>\n",
       "    <tr>\n",
       "      <th>155</th>\n",
       "      <td>Fifty Shades of Grey: Book One of the Fifty Sh...</td>\n",
       "      <td>E L James</td>\n",
       "      <td>3.8</td>\n",
       "      <td>47265</td>\n",
       "      <td>14</td>\n",
       "      <td>2012</td>\n",
       "      <td>Fiction</td>\n",
       "      <td>356</td>\n",
       "    </tr>\n",
       "    <tr>\n",
       "      <th>200</th>\n",
       "      <td>Allegiant</td>\n",
       "      <td>Veronica Roth</td>\n",
       "      <td>3.9</td>\n",
       "      <td>6310</td>\n",
       "      <td>13</td>\n",
       "      <td>2013</td>\n",
       "      <td>Fiction</td>\n",
       "      <td>526</td>\n",
       "    </tr>\n",
       "    <tr>\n",
       "      <th>...</th>\n",
       "      <td>...</td>\n",
       "      <td>...</td>\n",
       "      <td>...</td>\n",
       "      <td>...</td>\n",
       "      <td>...</td>\n",
       "      <td>...</td>\n",
       "      <td>...</td>\n",
       "      <td>...</td>\n",
       "    </tr>\n",
       "    <tr>\n",
       "      <th>471</th>\n",
       "      <td>Last Week Tonight with John Oliver Presents A ...</td>\n",
       "      <td>Jill Twiss</td>\n",
       "      <td>4.9</td>\n",
       "      <td>11881</td>\n",
       "      <td>13</td>\n",
       "      <td>2018</td>\n",
       "      <td>Fiction</td>\n",
       "      <td>40</td>\n",
       "    </tr>\n",
       "    <tr>\n",
       "      <th>540</th>\n",
       "      <td>The Very Hungry Caterpillar</td>\n",
       "      <td>Eric Carle</td>\n",
       "      <td>4.9</td>\n",
       "      <td>19546</td>\n",
       "      <td>5</td>\n",
       "      <td>2019</td>\n",
       "      <td>Fiction</td>\n",
       "      <td>26</td>\n",
       "    </tr>\n",
       "    <tr>\n",
       "      <th>264</th>\n",
       "      <td>Jesus Calling: Enjoying Peace in His Presence ...</td>\n",
       "      <td>Sarah Young</td>\n",
       "      <td>4.9</td>\n",
       "      <td>19576</td>\n",
       "      <td>8</td>\n",
       "      <td>2014</td>\n",
       "      <td>Non Fiction</td>\n",
       "      <td>384</td>\n",
       "    </tr>\n",
       "    <tr>\n",
       "      <th>523</th>\n",
       "      <td>Oh, the Places You'll Go!</td>\n",
       "      <td>Dr. Seuss</td>\n",
       "      <td>4.9</td>\n",
       "      <td>21834</td>\n",
       "      <td>8</td>\n",
       "      <td>2019</td>\n",
       "      <td>Fiction</td>\n",
       "      <td>44</td>\n",
       "    </tr>\n",
       "    <tr>\n",
       "      <th>227</th>\n",
       "      <td>Rush Revere and the Brave Pilgrims: Time-Trave...</td>\n",
       "      <td>Rush Limbaugh</td>\n",
       "      <td>4.9</td>\n",
       "      <td>7150</td>\n",
       "      <td>12</td>\n",
       "      <td>2013</td>\n",
       "      <td>Fiction</td>\n",
       "      <td>212</td>\n",
       "    </tr>\n",
       "  </tbody>\n",
       "</table>\n",
       "<p>650 rows × 8 columns</p>\n",
       "</div>"
      ],
      "text/plain": [
       "                                              название          автор  \\\n",
       "178                                 The Casual Vacancy   J.K. Rowling   \n",
       "316                         Go Set a Watchman: A Novel     Harper Lee   \n",
       "208  Fifty Shades of Grey: Book One of the Fifty Sh...      E L James   \n",
       "155  Fifty Shades of Grey: Book One of the Fifty Sh...      E L James   \n",
       "200                                          Allegiant  Veronica Roth   \n",
       "..                                                 ...            ...   \n",
       "471  Last Week Tonight with John Oliver Presents A ...     Jill Twiss   \n",
       "540                        The Very Hungry Caterpillar     Eric Carle   \n",
       "264  Jesus Calling: Enjoying Peace in His Presence ...    Sarah Young   \n",
       "523                          Oh, the Places You'll Go!      Dr. Seuss   \n",
       "227  Rush Revere and the Brave Pilgrims: Time-Trave...  Rush Limbaugh   \n",
       "\n",
       "     рейтинг  обзоры  цена   год         жанр  кол-во страниц  \n",
       "178      3.3    9372    12  2012      Fiction             503  \n",
       "316      3.6   14982    19  2015      Fiction             278  \n",
       "208      3.8   47265    14  2013      Fiction             356  \n",
       "155      3.8   47265    14  2012      Fiction             356  \n",
       "200      3.9    6310    13  2013      Fiction             526  \n",
       "..       ...     ...   ...   ...          ...             ...  \n",
       "471      4.9   11881    13  2018      Fiction              40  \n",
       "540      4.9   19546     5  2019      Fiction              26  \n",
       "264      4.9   19576     8  2014  Non Fiction             384  \n",
       "523      4.9   21834     8  2019      Fiction              44  \n",
       "227      4.9    7150    12  2013      Fiction             212  \n",
       "\n",
       "[650 rows x 8 columns]"
      ]
     },
     "execution_count": 16,
     "metadata": {},
     "output_type": "execute_result"
    }
   ],
   "source": [
    "books.sort_values(by = ['рейтинг'], ascending=True)\n",
    "#ранжированние данных в таблице от самого низкого значения рейтинга до самого высокого"
   ]
  },
  {
   "cell_type": "code",
   "execution_count": 17,
   "id": "5cb0e918",
   "metadata": {
    "scrolled": true
   },
   "outputs": [
    {
     "data": {
      "text/html": [
       "<div>\n",
       "<style scoped>\n",
       "    .dataframe tbody tr th:only-of-type {\n",
       "        vertical-align: middle;\n",
       "    }\n",
       "\n",
       "    .dataframe tbody tr th {\n",
       "        vertical-align: top;\n",
       "    }\n",
       "\n",
       "    .dataframe thead th {\n",
       "        text-align: right;\n",
       "    }\n",
       "</style>\n",
       "<table border=\"1\" class=\"dataframe\">\n",
       "  <thead>\n",
       "    <tr style=\"text-align: right;\">\n",
       "      <th></th>\n",
       "      <th>название</th>\n",
       "      <th>автор</th>\n",
       "      <th>рейтинг</th>\n",
       "      <th>обзоры</th>\n",
       "      <th>цена</th>\n",
       "      <th>год</th>\n",
       "      <th>жанр</th>\n",
       "      <th>кол-во страниц</th>\n",
       "    </tr>\n",
       "  </thead>\n",
       "  <tbody>\n",
       "    <tr>\n",
       "      <th>5</th>\n",
       "      <td>Diary of a Wimpy Kid: The Last Straw (Book 3)</td>\n",
       "      <td>Jeff Kinney</td>\n",
       "      <td>4.8</td>\n",
       "      <td>3837</td>\n",
       "      <td>15</td>\n",
       "      <td>2009</td>\n",
       "      <td>Fiction</td>\n",
       "      <td>218</td>\n",
       "    </tr>\n",
       "    <tr>\n",
       "      <th>7</th>\n",
       "      <td>Dog Days (Diary of a Wimpy Kid, Book 4) (Volum...</td>\n",
       "      <td>Jeff Kinney</td>\n",
       "      <td>4.8</td>\n",
       "      <td>3181</td>\n",
       "      <td>12</td>\n",
       "      <td>2009</td>\n",
       "      <td>Fiction</td>\n",
       "      <td>218</td>\n",
       "    </tr>\n",
       "    <tr>\n",
       "      <th>15</th>\n",
       "      <td>Have a Little Faith: A True Story</td>\n",
       "      <td>Mitch Albom</td>\n",
       "      <td>4.8</td>\n",
       "      <td>1930</td>\n",
       "      <td>4</td>\n",
       "      <td>2009</td>\n",
       "      <td>Non Fiction</td>\n",
       "      <td>249</td>\n",
       "    </tr>\n",
       "    <tr>\n",
       "      <th>17</th>\n",
       "      <td>Liberty and Tyranny: A Conservative Manifesto</td>\n",
       "      <td>Mark R. Levin</td>\n",
       "      <td>4.8</td>\n",
       "      <td>3828</td>\n",
       "      <td>15</td>\n",
       "      <td>2009</td>\n",
       "      <td>Non Fiction</td>\n",
       "      <td>245</td>\n",
       "    </tr>\n",
       "    <tr>\n",
       "      <th>18</th>\n",
       "      <td>Mastering the Art of French Cooking, Vol. 2</td>\n",
       "      <td>Julia Child</td>\n",
       "      <td>4.8</td>\n",
       "      <td>2926</td>\n",
       "      <td>27</td>\n",
       "      <td>2009</td>\n",
       "      <td>Non Fiction</td>\n",
       "      <td>648</td>\n",
       "    </tr>\n",
       "    <tr>\n",
       "      <th>...</th>\n",
       "      <td>...</td>\n",
       "      <td>...</td>\n",
       "      <td>...</td>\n",
       "      <td>...</td>\n",
       "      <td>...</td>\n",
       "      <td>...</td>\n",
       "      <td>...</td>\n",
       "      <td>...</td>\n",
       "    </tr>\n",
       "    <tr>\n",
       "      <th>637</th>\n",
       "      <td>The Hill We Climb: An Inaugural Poem for the C...</td>\n",
       "      <td>Amanda Gorman</td>\n",
       "      <td>4.9</td>\n",
       "      <td>14385</td>\n",
       "      <td>10</td>\n",
       "      <td>2021</td>\n",
       "      <td>Fiction</td>\n",
       "      <td>32</td>\n",
       "    </tr>\n",
       "    <tr>\n",
       "      <th>640</th>\n",
       "      <td>The Real Anthony Fauci: Bill Gates, Big Pharma...</td>\n",
       "      <td>Robert F. Kennedy Jr.</td>\n",
       "      <td>4.8</td>\n",
       "      <td>14575</td>\n",
       "      <td>20</td>\n",
       "      <td>2021</td>\n",
       "      <td>Non Fiction</td>\n",
       "      <td>934</td>\n",
       "    </tr>\n",
       "    <tr>\n",
       "      <th>643</th>\n",
       "      <td>The Storyteller: Tales of Life and Music</td>\n",
       "      <td>Dave Grohl</td>\n",
       "      <td>4.8</td>\n",
       "      <td>14463</td>\n",
       "      <td>18</td>\n",
       "      <td>2021</td>\n",
       "      <td>Non Fiction</td>\n",
       "      <td>376</td>\n",
       "    </tr>\n",
       "    <tr>\n",
       "      <th>645</th>\n",
       "      <td>The Very Hungry Caterpillar</td>\n",
       "      <td>Eric Carle</td>\n",
       "      <td>4.9</td>\n",
       "      <td>47260</td>\n",
       "      <td>5</td>\n",
       "      <td>2021</td>\n",
       "      <td>Fiction</td>\n",
       "      <td>26</td>\n",
       "    </tr>\n",
       "    <tr>\n",
       "      <th>646</th>\n",
       "      <td>The Wonderful Things You Will Be</td>\n",
       "      <td>Emily Winfield Martin</td>\n",
       "      <td>4.9</td>\n",
       "      <td>20920</td>\n",
       "      <td>9</td>\n",
       "      <td>2021</td>\n",
       "      <td>Fiction</td>\n",
       "      <td>36</td>\n",
       "    </tr>\n",
       "  </tbody>\n",
       "</table>\n",
       "<p>236 rows × 8 columns</p>\n",
       "</div>"
      ],
      "text/plain": [
       "                                              название                  автор  \\\n",
       "5        Diary of a Wimpy Kid: The Last Straw (Book 3)            Jeff Kinney   \n",
       "7    Dog Days (Diary of a Wimpy Kid, Book 4) (Volum...            Jeff Kinney   \n",
       "15                   Have a Little Faith: A True Story            Mitch Albom   \n",
       "17       Liberty and Tyranny: A Conservative Manifesto          Mark R. Levin   \n",
       "18         Mastering the Art of French Cooking, Vol. 2            Julia Child   \n",
       "..                                                 ...                    ...   \n",
       "637  The Hill We Climb: An Inaugural Poem for the C...          Amanda Gorman   \n",
       "640  The Real Anthony Fauci: Bill Gates, Big Pharma...  Robert F. Kennedy Jr.   \n",
       "643           The Storyteller: Tales of Life and Music             Dave Grohl   \n",
       "645                        The Very Hungry Caterpillar             Eric Carle   \n",
       "646                   The Wonderful Things You Will Be  Emily Winfield Martin   \n",
       "\n",
       "     рейтинг  обзоры  цена   год         жанр  кол-во страниц  \n",
       "5        4.8    3837    15  2009      Fiction             218  \n",
       "7        4.8    3181    12  2009      Fiction             218  \n",
       "15       4.8    1930     4  2009  Non Fiction             249  \n",
       "17       4.8    3828    15  2009  Non Fiction             245  \n",
       "18       4.8    2926    27  2009  Non Fiction             648  \n",
       "..       ...     ...   ...   ...          ...             ...  \n",
       "637      4.9   14385    10  2021      Fiction              32  \n",
       "640      4.8   14575    20  2021  Non Fiction             934  \n",
       "643      4.8   14463    18  2021  Non Fiction             376  \n",
       "645      4.9   47260     5  2021      Fiction              26  \n",
       "646      4.9   20920     9  2021      Fiction              36  \n",
       "\n",
       "[236 rows x 8 columns]"
      ]
     },
     "execution_count": 17,
     "metadata": {},
     "output_type": "execute_result"
    }
   ],
   "source": [
    "books[(books['рейтинг']>=4.8)]\n",
    "#вывести только те значения, где рейтинг книг больше 4.8 "
   ]
  },
  {
   "cell_type": "code",
   "execution_count": 18,
   "id": "92d3239e",
   "metadata": {},
   "outputs": [
    {
     "data": {
      "text/html": [
       "<div>\n",
       "<style scoped>\n",
       "    .dataframe tbody tr th:only-of-type {\n",
       "        vertical-align: middle;\n",
       "    }\n",
       "\n",
       "    .dataframe tbody tr th {\n",
       "        vertical-align: top;\n",
       "    }\n",
       "\n",
       "    .dataframe thead th {\n",
       "        text-align: right;\n",
       "    }\n",
       "</style>\n",
       "<table border=\"1\" class=\"dataframe\">\n",
       "  <thead>\n",
       "    <tr style=\"text-align: right;\">\n",
       "      <th></th>\n",
       "      <th>название</th>\n",
       "      <th>автор</th>\n",
       "      <th>рейтинг</th>\n",
       "      <th>обзоры</th>\n",
       "      <th>цена</th>\n",
       "      <th>год</th>\n",
       "      <th>жанр</th>\n",
       "      <th>кол-во страниц</th>\n",
       "    </tr>\n",
       "  </thead>\n",
       "  <tbody>\n",
       "    <tr>\n",
       "      <th>601</th>\n",
       "      <td>American Marxism</td>\n",
       "      <td>Mark R. Levin</td>\n",
       "      <td>4.9</td>\n",
       "      <td>29510</td>\n",
       "      <td>14</td>\n",
       "      <td>2021</td>\n",
       "      <td>Non Fiction</td>\n",
       "      <td>317</td>\n",
       "    </tr>\n",
       "    <tr>\n",
       "      <th>602</th>\n",
       "      <td>Atlas of the Heart: Mapping Meaningful Connect...</td>\n",
       "      <td>Brené Brown</td>\n",
       "      <td>4.8</td>\n",
       "      <td>7556</td>\n",
       "      <td>18</td>\n",
       "      <td>2021</td>\n",
       "      <td>Non Fiction</td>\n",
       "      <td>301</td>\n",
       "    </tr>\n",
       "    <tr>\n",
       "      <th>603</th>\n",
       "      <td>Atomic Habits: An Easy &amp; Proven Way to Build G...</td>\n",
       "      <td>James Clear</td>\n",
       "      <td>4.8</td>\n",
       "      <td>73216</td>\n",
       "      <td>12</td>\n",
       "      <td>2021</td>\n",
       "      <td>Non Fiction</td>\n",
       "      <td>319</td>\n",
       "    </tr>\n",
       "    <tr>\n",
       "      <th>604</th>\n",
       "      <td>Big Shot Diary of a Wimpy Kid Book 16</td>\n",
       "      <td>Jeff Kinney</td>\n",
       "      <td>4.9</td>\n",
       "      <td>12259</td>\n",
       "      <td>7</td>\n",
       "      <td>2021</td>\n",
       "      <td>Fiction</td>\n",
       "      <td>226</td>\n",
       "    </tr>\n",
       "    <tr>\n",
       "      <th>605</th>\n",
       "      <td>Brown Bear, Brown Bear, What Do You See?</td>\n",
       "      <td>Bill Martin Jr.</td>\n",
       "      <td>4.9</td>\n",
       "      <td>38969</td>\n",
       "      <td>5</td>\n",
       "      <td>2021</td>\n",
       "      <td>Fiction</td>\n",
       "      <td>24</td>\n",
       "    </tr>\n",
       "    <tr>\n",
       "      <th>607</th>\n",
       "      <td>Call Us What We Carry: Poems</td>\n",
       "      <td>Amanda Gorman</td>\n",
       "      <td>4.9</td>\n",
       "      <td>2873</td>\n",
       "      <td>14</td>\n",
       "      <td>2021</td>\n",
       "      <td>Fiction</td>\n",
       "      <td>228</td>\n",
       "    </tr>\n",
       "    <tr>\n",
       "      <th>608</th>\n",
       "      <td>Caste (Oprah's Book Club): The Origins of Our ...</td>\n",
       "      <td>Isabel Wilkerson</td>\n",
       "      <td>4.8</td>\n",
       "      <td>38319</td>\n",
       "      <td>15</td>\n",
       "      <td>2021</td>\n",
       "      <td>Non Fiction</td>\n",
       "      <td>496</td>\n",
       "    </tr>\n",
       "    <tr>\n",
       "      <th>609</th>\n",
       "      <td>Crystals for Beginners: The Guide to Get Start...</td>\n",
       "      <td>Karen Frazier</td>\n",
       "      <td>4.8</td>\n",
       "      <td>30513</td>\n",
       "      <td>9</td>\n",
       "      <td>2021</td>\n",
       "      <td>Non Fiction</td>\n",
       "      <td>206</td>\n",
       "    </tr>\n",
       "    <tr>\n",
       "      <th>610</th>\n",
       "      <td>Dog Man: Mothering Heights: A Graphic Novel (D...</td>\n",
       "      <td>Dav Pilkey</td>\n",
       "      <td>4.9</td>\n",
       "      <td>18740</td>\n",
       "      <td>7</td>\n",
       "      <td>2021</td>\n",
       "      <td>Fiction</td>\n",
       "      <td>224</td>\n",
       "    </tr>\n",
       "    <tr>\n",
       "      <th>614</th>\n",
       "      <td>Grumpy Monkey</td>\n",
       "      <td>Suzanne Lang</td>\n",
       "      <td>4.8</td>\n",
       "      <td>20714</td>\n",
       "      <td>7</td>\n",
       "      <td>2021</td>\n",
       "      <td>Fiction</td>\n",
       "      <td>32</td>\n",
       "    </tr>\n",
       "    <tr>\n",
       "      <th>615</th>\n",
       "      <td>How to Catch a Mermaid</td>\n",
       "      <td>Adam Wallace</td>\n",
       "      <td>4.8</td>\n",
       "      <td>26660</td>\n",
       "      <td>5</td>\n",
       "      <td>2021</td>\n",
       "      <td>Fiction</td>\n",
       "      <td>40</td>\n",
       "    </tr>\n",
       "    <tr>\n",
       "      <th>617</th>\n",
       "      <td>I Am Confident, Brave &amp; Beautiful: A Coloring ...</td>\n",
       "      <td>Hopscotch Girls</td>\n",
       "      <td>4.8</td>\n",
       "      <td>29913</td>\n",
       "      <td>7</td>\n",
       "      <td>2021</td>\n",
       "      <td>Non Fiction</td>\n",
       "      <td>24</td>\n",
       "    </tr>\n",
       "    <tr>\n",
       "      <th>618</th>\n",
       "      <td>I Love You to the Moon and Back</td>\n",
       "      <td>Amelia Hepworth</td>\n",
       "      <td>4.9</td>\n",
       "      <td>51188</td>\n",
       "      <td>4</td>\n",
       "      <td>2021</td>\n",
       "      <td>Fiction</td>\n",
       "      <td>28</td>\n",
       "    </tr>\n",
       "    <tr>\n",
       "      <th>619</th>\n",
       "      <td>If Animals Kissed Good Night</td>\n",
       "      <td>Ann Whitford Paul</td>\n",
       "      <td>4.8</td>\n",
       "      <td>63658</td>\n",
       "      <td>4</td>\n",
       "      <td>2021</td>\n",
       "      <td>Fiction</td>\n",
       "      <td>32</td>\n",
       "    </tr>\n",
       "    <tr>\n",
       "      <th>621</th>\n",
       "      <td>My First Learn-to-Write Workbook: Practice for...</td>\n",
       "      <td>Crystal Radke</td>\n",
       "      <td>4.8</td>\n",
       "      <td>69801</td>\n",
       "      <td>5</td>\n",
       "      <td>2021</td>\n",
       "      <td>Non Fiction</td>\n",
       "      <td>84</td>\n",
       "    </tr>\n",
       "    <tr>\n",
       "      <th>623</th>\n",
       "      <td>Oh, the Places You'll Go!</td>\n",
       "      <td>Dr. Seuss</td>\n",
       "      <td>4.9</td>\n",
       "      <td>35287</td>\n",
       "      <td>9</td>\n",
       "      <td>2021</td>\n",
       "      <td>Fiction</td>\n",
       "      <td>44</td>\n",
       "    </tr>\n",
       "    <tr>\n",
       "      <th>624</th>\n",
       "      <td>Paint by Sticker Kids: Zoo Animals: Create 10 ...</td>\n",
       "      <td>Workman Publishing</td>\n",
       "      <td>4.8</td>\n",
       "      <td>20182</td>\n",
       "      <td>8</td>\n",
       "      <td>2021</td>\n",
       "      <td>Non Fiction</td>\n",
       "      <td>34</td>\n",
       "    </tr>\n",
       "    <tr>\n",
       "      <th>626</th>\n",
       "      <td>Publication Manual of the American Psychologic...</td>\n",
       "      <td>American Psychological Association</td>\n",
       "      <td>4.8</td>\n",
       "      <td>25374</td>\n",
       "      <td>21</td>\n",
       "      <td>2021</td>\n",
       "      <td>Non Fiction</td>\n",
       "      <td>428</td>\n",
       "    </tr>\n",
       "    <tr>\n",
       "      <th>628</th>\n",
       "      <td>School Zone - Big Preschool Workbook - 320 Pag...</td>\n",
       "      <td>School Zone</td>\n",
       "      <td>4.8</td>\n",
       "      <td>60501</td>\n",
       "      <td>6</td>\n",
       "      <td>2021</td>\n",
       "      <td>Non Fiction</td>\n",
       "      <td>320</td>\n",
       "    </tr>\n",
       "    <tr>\n",
       "      <th>631</th>\n",
       "      <td>The 5 Love Languages: The Secret to Love that ...</td>\n",
       "      <td>Gary Chapman</td>\n",
       "      <td>4.8</td>\n",
       "      <td>62463</td>\n",
       "      <td>8</td>\n",
       "      <td>2021</td>\n",
       "      <td>Non Fiction</td>\n",
       "      <td>232</td>\n",
       "    </tr>\n",
       "    <tr>\n",
       "      <th>633</th>\n",
       "      <td>The Body Keeps the Score: Brain, Mind, and Bod...</td>\n",
       "      <td>Bessel van der Kolk M.D.</td>\n",
       "      <td>4.8</td>\n",
       "      <td>44642</td>\n",
       "      <td>11</td>\n",
       "      <td>2021</td>\n",
       "      <td>Non Fiction</td>\n",
       "      <td>464</td>\n",
       "    </tr>\n",
       "    <tr>\n",
       "      <th>634</th>\n",
       "      <td>The Boy, the Mole, the Fox and the Horse</td>\n",
       "      <td>Charlie Mackesy</td>\n",
       "      <td>4.8</td>\n",
       "      <td>93749</td>\n",
       "      <td>10</td>\n",
       "      <td>2021</td>\n",
       "      <td>Fiction</td>\n",
       "      <td>128</td>\n",
       "    </tr>\n",
       "    <tr>\n",
       "      <th>637</th>\n",
       "      <td>The Hill We Climb: An Inaugural Poem for the C...</td>\n",
       "      <td>Amanda Gorman</td>\n",
       "      <td>4.9</td>\n",
       "      <td>14385</td>\n",
       "      <td>10</td>\n",
       "      <td>2021</td>\n",
       "      <td>Fiction</td>\n",
       "      <td>32</td>\n",
       "    </tr>\n",
       "    <tr>\n",
       "      <th>640</th>\n",
       "      <td>The Real Anthony Fauci: Bill Gates, Big Pharma...</td>\n",
       "      <td>Robert F. Kennedy Jr.</td>\n",
       "      <td>4.8</td>\n",
       "      <td>14575</td>\n",
       "      <td>20</td>\n",
       "      <td>2021</td>\n",
       "      <td>Non Fiction</td>\n",
       "      <td>934</td>\n",
       "    </tr>\n",
       "    <tr>\n",
       "      <th>643</th>\n",
       "      <td>The Storyteller: Tales of Life and Music</td>\n",
       "      <td>Dave Grohl</td>\n",
       "      <td>4.8</td>\n",
       "      <td>14463</td>\n",
       "      <td>18</td>\n",
       "      <td>2021</td>\n",
       "      <td>Non Fiction</td>\n",
       "      <td>376</td>\n",
       "    </tr>\n",
       "    <tr>\n",
       "      <th>645</th>\n",
       "      <td>The Very Hungry Caterpillar</td>\n",
       "      <td>Eric Carle</td>\n",
       "      <td>4.9</td>\n",
       "      <td>47260</td>\n",
       "      <td>5</td>\n",
       "      <td>2021</td>\n",
       "      <td>Fiction</td>\n",
       "      <td>26</td>\n",
       "    </tr>\n",
       "    <tr>\n",
       "      <th>646</th>\n",
       "      <td>The Wonderful Things You Will Be</td>\n",
       "      <td>Emily Winfield Martin</td>\n",
       "      <td>4.9</td>\n",
       "      <td>20920</td>\n",
       "      <td>9</td>\n",
       "      <td>2021</td>\n",
       "      <td>Fiction</td>\n",
       "      <td>36</td>\n",
       "    </tr>\n",
       "  </tbody>\n",
       "</table>\n",
       "</div>"
      ],
      "text/plain": [
       "                                              название  \\\n",
       "601                                   American Marxism   \n",
       "602  Atlas of the Heart: Mapping Meaningful Connect...   \n",
       "603  Atomic Habits: An Easy & Proven Way to Build G...   \n",
       "604              Big Shot Diary of a Wimpy Kid Book 16   \n",
       "605           Brown Bear, Brown Bear, What Do You See?   \n",
       "607                       Call Us What We Carry: Poems   \n",
       "608  Caste (Oprah's Book Club): The Origins of Our ...   \n",
       "609  Crystals for Beginners: The Guide to Get Start...   \n",
       "610  Dog Man: Mothering Heights: A Graphic Novel (D...   \n",
       "614                                      Grumpy Monkey   \n",
       "615                             How to Catch a Mermaid   \n",
       "617  I Am Confident, Brave & Beautiful: A Coloring ...   \n",
       "618                    I Love You to the Moon and Back   \n",
       "619                       If Animals Kissed Good Night   \n",
       "621  My First Learn-to-Write Workbook: Practice for...   \n",
       "623                        Oh, the Places You'll Go!     \n",
       "624  Paint by Sticker Kids: Zoo Animals: Create 10 ...   \n",
       "626  Publication Manual of the American Psychologic...   \n",
       "628  School Zone - Big Preschool Workbook - 320 Pag...   \n",
       "631  The 5 Love Languages: The Secret to Love that ...   \n",
       "633  The Body Keeps the Score: Brain, Mind, and Bod...   \n",
       "634           The Boy, the Mole, the Fox and the Horse   \n",
       "637  The Hill We Climb: An Inaugural Poem for the C...   \n",
       "640  The Real Anthony Fauci: Bill Gates, Big Pharma...   \n",
       "643           The Storyteller: Tales of Life and Music   \n",
       "645                        The Very Hungry Caterpillar   \n",
       "646                   The Wonderful Things You Will Be   \n",
       "\n",
       "                                  автор  рейтинг  обзоры  цена   год  \\\n",
       "601                       Mark R. Levin      4.9   29510    14  2021   \n",
       "602                         Brené Brown      4.8    7556    18  2021   \n",
       "603                         James Clear      4.8   73216    12  2021   \n",
       "604                         Jeff Kinney      4.9   12259     7  2021   \n",
       "605                     Bill Martin Jr.      4.9   38969     5  2021   \n",
       "607                       Amanda Gorman      4.9    2873    14  2021   \n",
       "608                    Isabel Wilkerson      4.8   38319    15  2021   \n",
       "609                       Karen Frazier      4.8   30513     9  2021   \n",
       "610                          Dav Pilkey      4.9   18740     7  2021   \n",
       "614                        Suzanne Lang      4.8   20714     7  2021   \n",
       "615                        Adam Wallace      4.8   26660     5  2021   \n",
       "617                     Hopscotch Girls      4.8   29913     7  2021   \n",
       "618                     Amelia Hepworth      4.9   51188     4  2021   \n",
       "619                   Ann Whitford Paul      4.8   63658     4  2021   \n",
       "621                       Crystal Radke      4.8   69801     5  2021   \n",
       "623                           Dr. Seuss      4.9   35287     9  2021   \n",
       "624                  Workman Publishing      4.8   20182     8  2021   \n",
       "626  American Psychological Association      4.8   25374    21  2021   \n",
       "628                         School Zone      4.8   60501     6  2021   \n",
       "631                        Gary Chapman      4.8   62463     8  2021   \n",
       "633            Bessel van der Kolk M.D.      4.8   44642    11  2021   \n",
       "634                     Charlie Mackesy      4.8   93749    10  2021   \n",
       "637                       Amanda Gorman      4.9   14385    10  2021   \n",
       "640               Robert F. Kennedy Jr.      4.8   14575    20  2021   \n",
       "643                          Dave Grohl      4.8   14463    18  2021   \n",
       "645                          Eric Carle      4.9   47260     5  2021   \n",
       "646               Emily Winfield Martin      4.9   20920     9  2021   \n",
       "\n",
       "            жанр  кол-во страниц  \n",
       "601  Non Fiction             317  \n",
       "602  Non Fiction             301  \n",
       "603  Non Fiction             319  \n",
       "604      Fiction             226  \n",
       "605      Fiction              24  \n",
       "607      Fiction             228  \n",
       "608  Non Fiction             496  \n",
       "609  Non Fiction             206  \n",
       "610      Fiction             224  \n",
       "614      Fiction              32  \n",
       "615      Fiction              40  \n",
       "617  Non Fiction              24  \n",
       "618      Fiction              28  \n",
       "619      Fiction              32  \n",
       "621  Non Fiction              84  \n",
       "623      Fiction              44  \n",
       "624  Non Fiction              34  \n",
       "626  Non Fiction             428  \n",
       "628  Non Fiction             320  \n",
       "631  Non Fiction             232  \n",
       "633  Non Fiction             464  \n",
       "634      Fiction             128  \n",
       "637      Fiction              32  \n",
       "640  Non Fiction             934  \n",
       "643  Non Fiction             376  \n",
       "645      Fiction              26  \n",
       "646      Fiction              36  "
      ]
     },
     "execution_count": 18,
     "metadata": {},
     "output_type": "execute_result"
    }
   ],
   "source": [
    "books[(books['год'] == 2021) & (books['рейтинг']>=4.8)]\n",
    "#вывести только те книги, у которых рейтинг выше 4.8 и год выпуска равен 2021"
   ]
  },
  {
   "cell_type": "code",
   "execution_count": 19,
   "id": "b2f4c7c4",
   "metadata": {},
   "outputs": [
    {
     "data": {
      "text/plain": [
       "(27, 8)"
      ]
     },
     "execution_count": 19,
     "metadata": {},
     "output_type": "execute_result"
    }
   ],
   "source": [
    "books[(books['год'] == 2021) & (books['рейтинг']>=4.8)].shape\n",
    "# книг соответствующих условию выше 27 штук"
   ]
  },
  {
   "cell_type": "markdown",
   "id": "4cc642cf",
   "metadata": {},
   "source": [
    "# Есть ли закономерность между рейтингом и кол-вом страниц?\n",
    "\n",
    "*Работа с сортировкой данных*"
   ]
  },
  {
   "cell_type": "code",
   "execution_count": 20,
   "id": "9322c1ac",
   "metadata": {
    "scrolled": true
   },
   "outputs": [
    {
     "data": {
      "text/html": [
       "<div>\n",
       "<style scoped>\n",
       "    .dataframe tbody tr th:only-of-type {\n",
       "        vertical-align: middle;\n",
       "    }\n",
       "\n",
       "    .dataframe tbody tr th {\n",
       "        vertical-align: top;\n",
       "    }\n",
       "\n",
       "    .dataframe thead th {\n",
       "        text-align: right;\n",
       "    }\n",
       "</style>\n",
       "<table border=\"1\" class=\"dataframe\">\n",
       "  <thead>\n",
       "    <tr style=\"text-align: right;\">\n",
       "      <th></th>\n",
       "      <th>название</th>\n",
       "      <th>автор</th>\n",
       "      <th>рейтинг</th>\n",
       "      <th>обзоры</th>\n",
       "      <th>цена</th>\n",
       "      <th>год</th>\n",
       "      <th>жанр</th>\n",
       "      <th>кол-во страниц</th>\n",
       "    </tr>\n",
       "  </thead>\n",
       "  <tbody>\n",
       "    <tr>\n",
       "      <th>160</th>\n",
       "      <td>Goodnight, Goodnight Construction Site (Hardco...</td>\n",
       "      <td>Sherri Duskey Rinker</td>\n",
       "      <td>4.9</td>\n",
       "      <td>7038</td>\n",
       "      <td>7</td>\n",
       "      <td>2012</td>\n",
       "      <td>Fiction</td>\n",
       "      <td>20</td>\n",
       "    </tr>\n",
       "    <tr>\n",
       "      <th>404</th>\n",
       "      <td>Brown Bear, Brown Bear, What Do You See?</td>\n",
       "      <td>Bill Martin Jr.</td>\n",
       "      <td>4.9</td>\n",
       "      <td>14344</td>\n",
       "      <td>5</td>\n",
       "      <td>2017</td>\n",
       "      <td>Fiction</td>\n",
       "      <td>24</td>\n",
       "    </tr>\n",
       "    <tr>\n",
       "      <th>502</th>\n",
       "      <td>Brown Bear, Brown Bear, What Do You See?</td>\n",
       "      <td>Bill Martin Jr.</td>\n",
       "      <td>4.9</td>\n",
       "      <td>14344</td>\n",
       "      <td>5</td>\n",
       "      <td>2019</td>\n",
       "      <td>Fiction</td>\n",
       "      <td>24</td>\n",
       "    </tr>\n",
       "    <tr>\n",
       "      <th>554</th>\n",
       "      <td>Brown Bear, Brown Bear, What Do You See?</td>\n",
       "      <td>Bill Martin Jr.</td>\n",
       "      <td>4.9</td>\n",
       "      <td>38969</td>\n",
       "      <td>5</td>\n",
       "      <td>2020</td>\n",
       "      <td>Fiction</td>\n",
       "      <td>24</td>\n",
       "    </tr>\n",
       "    <tr>\n",
       "      <th>605</th>\n",
       "      <td>Brown Bear, Brown Bear, What Do You See?</td>\n",
       "      <td>Bill Martin Jr.</td>\n",
       "      <td>4.9</td>\n",
       "      <td>38969</td>\n",
       "      <td>5</td>\n",
       "      <td>2021</td>\n",
       "      <td>Fiction</td>\n",
       "      <td>24</td>\n",
       "    </tr>\n",
       "    <tr>\n",
       "      <th>...</th>\n",
       "      <td>...</td>\n",
       "      <td>...</td>\n",
       "      <td>...</td>\n",
       "      <td>...</td>\n",
       "      <td>...</td>\n",
       "      <td>...</td>\n",
       "      <td>...</td>\n",
       "      <td>...</td>\n",
       "    </tr>\n",
       "    <tr>\n",
       "      <th>288</th>\n",
       "      <td>The Goldfinch: A Novel (Pulitzer Prize for Fic...</td>\n",
       "      <td>Donna Tartt</td>\n",
       "      <td>3.9</td>\n",
       "      <td>33844</td>\n",
       "      <td>20</td>\n",
       "      <td>2014</td>\n",
       "      <td>Fiction</td>\n",
       "      <td>771</td>\n",
       "    </tr>\n",
       "    <tr>\n",
       "      <th>155</th>\n",
       "      <td>Fifty Shades of Grey: Book One of the Fifty Sh...</td>\n",
       "      <td>E L James</td>\n",
       "      <td>3.8</td>\n",
       "      <td>47265</td>\n",
       "      <td>14</td>\n",
       "      <td>2012</td>\n",
       "      <td>Fiction</td>\n",
       "      <td>356</td>\n",
       "    </tr>\n",
       "    <tr>\n",
       "      <th>208</th>\n",
       "      <td>Fifty Shades of Grey: Book One of the Fifty Sh...</td>\n",
       "      <td>E L James</td>\n",
       "      <td>3.8</td>\n",
       "      <td>47265</td>\n",
       "      <td>14</td>\n",
       "      <td>2013</td>\n",
       "      <td>Fiction</td>\n",
       "      <td>356</td>\n",
       "    </tr>\n",
       "    <tr>\n",
       "      <th>316</th>\n",
       "      <td>Go Set a Watchman: A Novel</td>\n",
       "      <td>Harper Lee</td>\n",
       "      <td>3.6</td>\n",
       "      <td>14982</td>\n",
       "      <td>19</td>\n",
       "      <td>2015</td>\n",
       "      <td>Fiction</td>\n",
       "      <td>278</td>\n",
       "    </tr>\n",
       "    <tr>\n",
       "      <th>178</th>\n",
       "      <td>The Casual Vacancy</td>\n",
       "      <td>J.K. Rowling</td>\n",
       "      <td>3.3</td>\n",
       "      <td>9372</td>\n",
       "      <td>12</td>\n",
       "      <td>2012</td>\n",
       "      <td>Fiction</td>\n",
       "      <td>503</td>\n",
       "    </tr>\n",
       "  </tbody>\n",
       "</table>\n",
       "<p>650 rows × 8 columns</p>\n",
       "</div>"
      ],
      "text/plain": [
       "                                              название                 автор  \\\n",
       "160  Goodnight, Goodnight Construction Site (Hardco...  Sherri Duskey Rinker   \n",
       "404           Brown Bear, Brown Bear, What Do You See?       Bill Martin Jr.   \n",
       "502           Brown Bear, Brown Bear, What Do You See?       Bill Martin Jr.   \n",
       "554           Brown Bear, Brown Bear, What Do You See?       Bill Martin Jr.   \n",
       "605           Brown Bear, Brown Bear, What Do You See?       Bill Martin Jr.   \n",
       "..                                                 ...                   ...   \n",
       "288  The Goldfinch: A Novel (Pulitzer Prize for Fic...           Donna Tartt   \n",
       "155  Fifty Shades of Grey: Book One of the Fifty Sh...             E L James   \n",
       "208  Fifty Shades of Grey: Book One of the Fifty Sh...             E L James   \n",
       "316                         Go Set a Watchman: A Novel            Harper Lee   \n",
       "178                                 The Casual Vacancy          J.K. Rowling   \n",
       "\n",
       "     рейтинг  обзоры  цена   год     жанр  кол-во страниц  \n",
       "160      4.9    7038     7  2012  Fiction              20  \n",
       "404      4.9   14344     5  2017  Fiction              24  \n",
       "502      4.9   14344     5  2019  Fiction              24  \n",
       "554      4.9   38969     5  2020  Fiction              24  \n",
       "605      4.9   38969     5  2021  Fiction              24  \n",
       "..       ...     ...   ...   ...      ...             ...  \n",
       "288      3.9   33844    20  2014  Fiction             771  \n",
       "155      3.8   47265    14  2012  Fiction             356  \n",
       "208      3.8   47265    14  2013  Fiction             356  \n",
       "316      3.6   14982    19  2015  Fiction             278  \n",
       "178      3.3    9372    12  2012  Fiction             503  \n",
       "\n",
       "[650 rows x 8 columns]"
      ]
     },
     "execution_count": 20,
     "metadata": {},
     "output_type": "execute_result"
    }
   ],
   "source": [
    "books.sort_values(by = ['рейтинг','кол-во страниц'],ascending= [False, True])\n",
    "#весь массив данных отфильтрован: рейтинг идет по убыванию, кол-во страниц по ворзастанию"
   ]
  },
  {
   "cell_type": "code",
   "execution_count": 21,
   "id": "ab87ad5b",
   "metadata": {},
   "outputs": [
    {
     "data": {
      "text/plain": [
       "'Goodnight, Goodnight Construction Site (Hardcover Books for Toddlers, Preschool Books for Kids)'"
      ]
     },
     "execution_count": 21,
     "metadata": {},
     "output_type": "execute_result"
    }
   ],
   "source": [
    "books.iloc[160]['название']\n",
    "#название книги с самым высоким рейтингом 4.9 'Goodnight, Goodnight Construction Site (Hardcover Books for Toddlers, Preschool Books for Kids)', кол-во страниц 20"
   ]
  },
  {
   "cell_type": "code",
   "execution_count": 22,
   "id": "2e8cc6c5",
   "metadata": {},
   "outputs": [
    {
     "data": {
      "text/html": [
       "<div>\n",
       "<style scoped>\n",
       "    .dataframe tbody tr th:only-of-type {\n",
       "        vertical-align: middle;\n",
       "    }\n",
       "\n",
       "    .dataframe tbody tr th {\n",
       "        vertical-align: top;\n",
       "    }\n",
       "\n",
       "    .dataframe thead th {\n",
       "        text-align: right;\n",
       "    }\n",
       "</style>\n",
       "<table border=\"1\" class=\"dataframe\">\n",
       "  <thead>\n",
       "    <tr style=\"text-align: right;\">\n",
       "      <th></th>\n",
       "      <th>название</th>\n",
       "      <th>автор</th>\n",
       "      <th>рейтинг</th>\n",
       "      <th>обзоры</th>\n",
       "      <th>цена</th>\n",
       "      <th>год</th>\n",
       "      <th>жанр</th>\n",
       "      <th>кол-во страниц</th>\n",
       "    </tr>\n",
       "  </thead>\n",
       "  <tbody>\n",
       "    <tr>\n",
       "      <th>178</th>\n",
       "      <td>The Casual Vacancy</td>\n",
       "      <td>J.K. Rowling</td>\n",
       "      <td>3.3</td>\n",
       "      <td>9372</td>\n",
       "      <td>12</td>\n",
       "      <td>2012</td>\n",
       "      <td>Fiction</td>\n",
       "      <td>503</td>\n",
       "    </tr>\n",
       "    <tr>\n",
       "      <th>316</th>\n",
       "      <td>Go Set a Watchman: A Novel</td>\n",
       "      <td>Harper Lee</td>\n",
       "      <td>3.6</td>\n",
       "      <td>14982</td>\n",
       "      <td>19</td>\n",
       "      <td>2015</td>\n",
       "      <td>Fiction</td>\n",
       "      <td>278</td>\n",
       "    </tr>\n",
       "    <tr>\n",
       "      <th>155</th>\n",
       "      <td>Fifty Shades of Grey: Book One of the Fifty Sh...</td>\n",
       "      <td>E L James</td>\n",
       "      <td>3.8</td>\n",
       "      <td>47265</td>\n",
       "      <td>14</td>\n",
       "      <td>2012</td>\n",
       "      <td>Fiction</td>\n",
       "      <td>356</td>\n",
       "    </tr>\n",
       "    <tr>\n",
       "      <th>208</th>\n",
       "      <td>Fifty Shades of Grey: Book One of the Fifty Sh...</td>\n",
       "      <td>E L James</td>\n",
       "      <td>3.8</td>\n",
       "      <td>47265</td>\n",
       "      <td>14</td>\n",
       "      <td>2013</td>\n",
       "      <td>Fiction</td>\n",
       "      <td>356</td>\n",
       "    </tr>\n",
       "    <tr>\n",
       "      <th>200</th>\n",
       "      <td>Allegiant</td>\n",
       "      <td>Veronica Roth</td>\n",
       "      <td>3.9</td>\n",
       "      <td>6310</td>\n",
       "      <td>13</td>\n",
       "      <td>2013</td>\n",
       "      <td>Fiction</td>\n",
       "      <td>526</td>\n",
       "    </tr>\n",
       "    <tr>\n",
       "      <th>...</th>\n",
       "      <td>...</td>\n",
       "      <td>...</td>\n",
       "      <td>...</td>\n",
       "      <td>...</td>\n",
       "      <td>...</td>\n",
       "      <td>...</td>\n",
       "      <td>...</td>\n",
       "      <td>...</td>\n",
       "    </tr>\n",
       "    <tr>\n",
       "      <th>371</th>\n",
       "      <td>Jesus Calling: Enjoying Peace in His Presence ...</td>\n",
       "      <td>Sarah Young</td>\n",
       "      <td>4.9</td>\n",
       "      <td>19576</td>\n",
       "      <td>8</td>\n",
       "      <td>2016</td>\n",
       "      <td>Non Fiction</td>\n",
       "      <td>384</td>\n",
       "    </tr>\n",
       "    <tr>\n",
       "      <th>365</th>\n",
       "      <td>Harry Potter and the Chamber of Secrets: The I...</td>\n",
       "      <td>J.K. Rowling</td>\n",
       "      <td>4.9</td>\n",
       "      <td>19622</td>\n",
       "      <td>30</td>\n",
       "      <td>2016</td>\n",
       "      <td>Fiction</td>\n",
       "      <td>400</td>\n",
       "    </tr>\n",
       "    <tr>\n",
       "      <th>320</th>\n",
       "      <td>Humans of New York : Stories</td>\n",
       "      <td>Brandon Stanton</td>\n",
       "      <td>4.9</td>\n",
       "      <td>2812</td>\n",
       "      <td>17</td>\n",
       "      <td>2015</td>\n",
       "      <td>Non Fiction</td>\n",
       "      <td>428</td>\n",
       "    </tr>\n",
       "    <tr>\n",
       "      <th>515</th>\n",
       "      <td>Harry Potter and the Goblet of Fire: The Illus...</td>\n",
       "      <td>J. K. Rowling</td>\n",
       "      <td>4.9</td>\n",
       "      <td>7758</td>\n",
       "      <td>18</td>\n",
       "      <td>2019</td>\n",
       "      <td>Fiction</td>\n",
       "      <td>464</td>\n",
       "    </tr>\n",
       "    <tr>\n",
       "      <th>550</th>\n",
       "      <td>A Promised Land</td>\n",
       "      <td>Barack Obama</td>\n",
       "      <td>4.9</td>\n",
       "      <td>121109</td>\n",
       "      <td>16</td>\n",
       "      <td>2020</td>\n",
       "      <td>Non Fiction</td>\n",
       "      <td>768</td>\n",
       "    </tr>\n",
       "  </tbody>\n",
       "</table>\n",
       "<p>650 rows × 8 columns</p>\n",
       "</div>"
      ],
      "text/plain": [
       "                                              название            автор  \\\n",
       "178                                 The Casual Vacancy     J.K. Rowling   \n",
       "316                         Go Set a Watchman: A Novel       Harper Lee   \n",
       "155  Fifty Shades of Grey: Book One of the Fifty Sh...        E L James   \n",
       "208  Fifty Shades of Grey: Book One of the Fifty Sh...        E L James   \n",
       "200                                          Allegiant    Veronica Roth   \n",
       "..                                                 ...              ...   \n",
       "371  Jesus Calling: Enjoying Peace in His Presence ...      Sarah Young   \n",
       "365  Harry Potter and the Chamber of Secrets: The I...     J.K. Rowling   \n",
       "320                       Humans of New York : Stories  Brandon Stanton   \n",
       "515  Harry Potter and the Goblet of Fire: The Illus...    J. K. Rowling   \n",
       "550                                    A Promised Land     Barack Obama   \n",
       "\n",
       "     рейтинг  обзоры  цена   год         жанр  кол-во страниц  \n",
       "178      3.3    9372    12  2012      Fiction             503  \n",
       "316      3.6   14982    19  2015      Fiction             278  \n",
       "155      3.8   47265    14  2012      Fiction             356  \n",
       "208      3.8   47265    14  2013      Fiction             356  \n",
       "200      3.9    6310    13  2013      Fiction             526  \n",
       "..       ...     ...   ...   ...          ...             ...  \n",
       "371      4.9   19576     8  2016  Non Fiction             384  \n",
       "365      4.9   19622    30  2016      Fiction             400  \n",
       "320      4.9    2812    17  2015  Non Fiction             428  \n",
       "515      4.9    7758    18  2019      Fiction             464  \n",
       "550      4.9  121109    16  2020  Non Fiction             768  \n",
       "\n",
       "[650 rows x 8 columns]"
      ]
     },
     "execution_count": 22,
     "metadata": {},
     "output_type": "execute_result"
    }
   ],
   "source": [
    "books.sort_values(by = ['рейтинг','кол-во страниц'],ascending= [True, True])"
   ]
  },
  {
   "cell_type": "code",
   "execution_count": 23,
   "id": "c2439247",
   "metadata": {
    "scrolled": true
   },
   "outputs": [
    {
     "data": {
      "text/plain": [
       "63     1200\n",
       "101    1125\n",
       "47     1074\n",
       "291    1008\n",
       "91     1008\n",
       "       ... \n",
       "407      16\n",
       "295      16\n",
       "305      14\n",
       "477      12\n",
       "524      12\n",
       "Name: кол-во страниц, Length: 650, dtype: int64"
      ]
     },
     "execution_count": 23,
     "metadata": {},
     "output_type": "execute_result"
    }
   ],
   "source": [
    "books['кол-во страниц'].sort_values(ascending=False)\n",
    "#книга с самым большим кол-вом страниц 1200"
   ]
  },
  {
   "cell_type": "code",
   "execution_count": 24,
   "id": "05d8895c",
   "metadata": {
    "scrolled": true
   },
   "outputs": [
    {
     "data": {
      "text/plain": [
       "\"George Washington's Sacred Fire\""
      ]
     },
     "execution_count": 24,
     "metadata": {},
     "output_type": "execute_result"
    }
   ],
   "source": [
    "books.iloc[63]['название']"
   ]
  },
  {
   "cell_type": "code",
   "execution_count": 25,
   "id": "6c64f3e8",
   "metadata": {},
   "outputs": [
    {
     "data": {
      "text/plain": [
       "название          George Washington's Sacred Fire\n",
       " автор                          Peter A. Lillback\n",
       "рейтинг                                       4.5\n",
       "обзоры                                        408\n",
       "цена                                           20\n",
       "год                                          2010\n",
       "жанр                                  Non Fiction\n",
       "кол-во страниц                               1200\n",
       "Name: 63, dtype: object"
      ]
     },
     "execution_count": 25,
     "metadata": {},
     "output_type": "execute_result"
    }
   ],
   "source": [
    "books.iloc[63]\n",
    "#ее название George Washington's Sacred Fire \n",
    "#тем не менее ее рейтинг достаточно высокий 4.5"
   ]
  },
  {
   "cell_type": "code",
   "execution_count": 26,
   "id": "f73bdbfb",
   "metadata": {
    "scrolled": true
   },
   "outputs": [
    {
     "data": {
      "text/html": [
       "<div>\n",
       "<style scoped>\n",
       "    .dataframe tbody tr th:only-of-type {\n",
       "        vertical-align: middle;\n",
       "    }\n",
       "\n",
       "    .dataframe tbody tr th {\n",
       "        vertical-align: top;\n",
       "    }\n",
       "\n",
       "    .dataframe thead th {\n",
       "        text-align: right;\n",
       "    }\n",
       "</style>\n",
       "<table border=\"1\" class=\"dataframe\">\n",
       "  <thead>\n",
       "    <tr style=\"text-align: right;\">\n",
       "      <th></th>\n",
       "      <th>название</th>\n",
       "      <th>автор</th>\n",
       "      <th>рейтинг</th>\n",
       "      <th>обзоры</th>\n",
       "      <th>цена</th>\n",
       "      <th>год</th>\n",
       "      <th>жанр</th>\n",
       "      <th>кол-во страниц</th>\n",
       "    </tr>\n",
       "  </thead>\n",
       "  <tbody>\n",
       "    <tr>\n",
       "      <th>2</th>\n",
       "      <td>Breaking Dawn (The Twilight Saga, Book 4)</td>\n",
       "      <td>Stephenie Meyer</td>\n",
       "      <td>4.6</td>\n",
       "      <td>9769</td>\n",
       "      <td>13</td>\n",
       "      <td>2009</td>\n",
       "      <td>Fiction</td>\n",
       "      <td>756</td>\n",
       "    </tr>\n",
       "    <tr>\n",
       "      <th>10</th>\n",
       "      <td>Eclipse (Twilight Sagas)</td>\n",
       "      <td>Stephenie Meyer</td>\n",
       "      <td>4.7</td>\n",
       "      <td>5505</td>\n",
       "      <td>7</td>\n",
       "      <td>2009</td>\n",
       "      <td>Fiction</td>\n",
       "      <td>629</td>\n",
       "    </tr>\n",
       "    <tr>\n",
       "      <th>11</th>\n",
       "      <td>Eclipse (Twilight)</td>\n",
       "      <td>Stephenie Meyer</td>\n",
       "      <td>4.7</td>\n",
       "      <td>5505</td>\n",
       "      <td>18</td>\n",
       "      <td>2009</td>\n",
       "      <td>Fiction</td>\n",
       "      <td>629</td>\n",
       "    </tr>\n",
       "    <tr>\n",
       "      <th>13</th>\n",
       "      <td>Going Rogue: An American Life</td>\n",
       "      <td>Sarah Palin</td>\n",
       "      <td>4.6</td>\n",
       "      <td>1636</td>\n",
       "      <td>6</td>\n",
       "      <td>2009</td>\n",
       "      <td>Non Fiction</td>\n",
       "      <td>413</td>\n",
       "    </tr>\n",
       "    <tr>\n",
       "      <th>18</th>\n",
       "      <td>Mastering the Art of French Cooking, Vol. 2</td>\n",
       "      <td>Julia Child</td>\n",
       "      <td>4.8</td>\n",
       "      <td>2926</td>\n",
       "      <td>27</td>\n",
       "      <td>2009</td>\n",
       "      <td>Non Fiction</td>\n",
       "      <td>648</td>\n",
       "    </tr>\n",
       "    <tr>\n",
       "      <th>...</th>\n",
       "      <td>...</td>\n",
       "      <td>...</td>\n",
       "      <td>...</td>\n",
       "      <td>...</td>\n",
       "      <td>...</td>\n",
       "      <td>...</td>\n",
       "      <td>...</td>\n",
       "      <td>...</td>\n",
       "    </tr>\n",
       "    <tr>\n",
       "      <th>625</th>\n",
       "      <td>Peril</td>\n",
       "      <td>Bob Woodward</td>\n",
       "      <td>4.6</td>\n",
       "      <td>16861</td>\n",
       "      <td>15</td>\n",
       "      <td>2021</td>\n",
       "      <td>Non Fiction</td>\n",
       "      <td>512</td>\n",
       "    </tr>\n",
       "    <tr>\n",
       "      <th>626</th>\n",
       "      <td>Publication Manual of the American Psychologic...</td>\n",
       "      <td>American Psychological Association</td>\n",
       "      <td>4.8</td>\n",
       "      <td>25374</td>\n",
       "      <td>21</td>\n",
       "      <td>2021</td>\n",
       "      <td>Non Fiction</td>\n",
       "      <td>428</td>\n",
       "    </tr>\n",
       "    <tr>\n",
       "      <th>630</th>\n",
       "      <td>The 48 Laws of Power</td>\n",
       "      <td>Robert Greene</td>\n",
       "      <td>4.7</td>\n",
       "      <td>38568</td>\n",
       "      <td>12</td>\n",
       "      <td>2021</td>\n",
       "      <td>Non Fiction</td>\n",
       "      <td>452</td>\n",
       "    </tr>\n",
       "    <tr>\n",
       "      <th>633</th>\n",
       "      <td>The Body Keeps the Score: Brain, Mind, and Bod...</td>\n",
       "      <td>Bessel van der Kolk M.D.</td>\n",
       "      <td>4.8</td>\n",
       "      <td>44642</td>\n",
       "      <td>11</td>\n",
       "      <td>2021</td>\n",
       "      <td>Non Fiction</td>\n",
       "      <td>464</td>\n",
       "    </tr>\n",
       "    <tr>\n",
       "      <th>640</th>\n",
       "      <td>The Real Anthony Fauci: Bill Gates, Big Pharma...</td>\n",
       "      <td>Robert F. Kennedy Jr.</td>\n",
       "      <td>4.8</td>\n",
       "      <td>14575</td>\n",
       "      <td>20</td>\n",
       "      <td>2021</td>\n",
       "      <td>Non Fiction</td>\n",
       "      <td>934</td>\n",
       "    </tr>\n",
       "  </tbody>\n",
       "</table>\n",
       "<p>98 rows × 8 columns</p>\n",
       "</div>"
      ],
      "text/plain": [
       "                                              название  \\\n",
       "2            Breaking Dawn (The Twilight Saga, Book 4)   \n",
       "10                            Eclipse (Twilight Sagas)   \n",
       "11                                  Eclipse (Twilight)   \n",
       "13                       Going Rogue: An American Life   \n",
       "18         Mastering the Art of French Cooking, Vol. 2   \n",
       "..                                                 ...   \n",
       "625                                              Peril   \n",
       "626  Publication Manual of the American Psychologic...   \n",
       "630                               The 48 Laws of Power   \n",
       "633  The Body Keeps the Score: Brain, Mind, and Bod...   \n",
       "640  The Real Anthony Fauci: Bill Gates, Big Pharma...   \n",
       "\n",
       "                                  автор  рейтинг  обзоры  цена   год  \\\n",
       "2                       Stephenie Meyer      4.6    9769    13  2009   \n",
       "10                      Stephenie Meyer      4.7    5505     7  2009   \n",
       "11                      Stephenie Meyer      4.7    5505    18  2009   \n",
       "13                          Sarah Palin      4.6    1636     6  2009   \n",
       "18                          Julia Child      4.8    2926    27  2009   \n",
       "..                                  ...      ...     ...   ...   ...   \n",
       "625                        Bob Woodward      4.6   16861    15  2021   \n",
       "626  American Psychological Association      4.8   25374    21  2021   \n",
       "630                       Robert Greene      4.7   38568    12  2021   \n",
       "633            Bessel van der Kolk M.D.      4.8   44642    11  2021   \n",
       "640               Robert F. Kennedy Jr.      4.8   14575    20  2021   \n",
       "\n",
       "            жанр  кол-во страниц  \n",
       "2        Fiction             756  \n",
       "10       Fiction             629  \n",
       "11       Fiction             629  \n",
       "13   Non Fiction             413  \n",
       "18   Non Fiction             648  \n",
       "..           ...             ...  \n",
       "625  Non Fiction             512  \n",
       "626  Non Fiction             428  \n",
       "630  Non Fiction             452  \n",
       "633  Non Fiction             464  \n",
       "640  Non Fiction             934  \n",
       "\n",
       "[98 rows x 8 columns]"
      ]
     },
     "execution_count": 26,
     "metadata": {},
     "output_type": "execute_result"
    }
   ],
   "source": [
    "books[(books['рейтинг'] > 4.5) & (books['кол-во страниц']>400)]\n",
    "#98 книг с кол-вом страниц выше 400 имеют рейтинг выше 4.5"
   ]
  },
  {
   "cell_type": "code",
   "execution_count": 27,
   "id": "b19873a9",
   "metadata": {
    "scrolled": false
   },
   "outputs": [
    {
     "data": {
      "text/html": [
       "<div>\n",
       "<style scoped>\n",
       "    .dataframe tbody tr th:only-of-type {\n",
       "        vertical-align: middle;\n",
       "    }\n",
       "\n",
       "    .dataframe tbody tr th {\n",
       "        vertical-align: top;\n",
       "    }\n",
       "\n",
       "    .dataframe thead th {\n",
       "        text-align: right;\n",
       "    }\n",
       "</style>\n",
       "<table border=\"1\" class=\"dataframe\">\n",
       "  <thead>\n",
       "    <tr style=\"text-align: right;\">\n",
       "      <th></th>\n",
       "      <th>название</th>\n",
       "      <th>автор</th>\n",
       "      <th>рейтинг</th>\n",
       "      <th>обзоры</th>\n",
       "      <th>цена</th>\n",
       "      <th>год</th>\n",
       "      <th>жанр</th>\n",
       "      <th>кол-во страниц</th>\n",
       "    </tr>\n",
       "  </thead>\n",
       "  <tbody>\n",
       "    <tr>\n",
       "      <th>49</th>\n",
       "      <td>Where the Wild Things Are</td>\n",
       "      <td>Maurice Sendak</td>\n",
       "      <td>4.8</td>\n",
       "      <td>9967</td>\n",
       "      <td>13</td>\n",
       "      <td>2009</td>\n",
       "      <td>Fiction</td>\n",
       "      <td>38</td>\n",
       "    </tr>\n",
       "    <tr>\n",
       "      <th>110</th>\n",
       "      <td>Go the F**k to Sleep</td>\n",
       "      <td>Adam Mansbach</td>\n",
       "      <td>4.8</td>\n",
       "      <td>9568</td>\n",
       "      <td>9</td>\n",
       "      <td>2011</td>\n",
       "      <td>Fiction</td>\n",
       "      <td>17</td>\n",
       "    </tr>\n",
       "    <tr>\n",
       "      <th>160</th>\n",
       "      <td>Goodnight, Goodnight Construction Site (Hardco...</td>\n",
       "      <td>Sherri Duskey Rinker</td>\n",
       "      <td>4.9</td>\n",
       "      <td>7038</td>\n",
       "      <td>7</td>\n",
       "      <td>2012</td>\n",
       "      <td>Fiction</td>\n",
       "      <td>20</td>\n",
       "    </tr>\n",
       "    <tr>\n",
       "      <th>167</th>\n",
       "      <td>Oh, the Places You'll Go!</td>\n",
       "      <td>Dr. Seuss</td>\n",
       "      <td>4.9</td>\n",
       "      <td>21834</td>\n",
       "      <td>8</td>\n",
       "      <td>2012</td>\n",
       "      <td>Fiction</td>\n",
       "      <td>44</td>\n",
       "    </tr>\n",
       "    <tr>\n",
       "      <th>212</th>\n",
       "      <td>Goodnight, Goodnight Construction Site (Hardco...</td>\n",
       "      <td>Sherri Duskey Rinker</td>\n",
       "      <td>4.9</td>\n",
       "      <td>7038</td>\n",
       "      <td>7</td>\n",
       "      <td>2013</td>\n",
       "      <td>Fiction</td>\n",
       "      <td>32</td>\n",
       "    </tr>\n",
       "    <tr>\n",
       "      <th>...</th>\n",
       "      <td>...</td>\n",
       "      <td>...</td>\n",
       "      <td>...</td>\n",
       "      <td>...</td>\n",
       "      <td>...</td>\n",
       "      <td>...</td>\n",
       "      <td>...</td>\n",
       "      <td>...</td>\n",
       "    </tr>\n",
       "    <tr>\n",
       "      <th>623</th>\n",
       "      <td>Oh, the Places You'll Go!</td>\n",
       "      <td>Dr. Seuss</td>\n",
       "      <td>4.9</td>\n",
       "      <td>35287</td>\n",
       "      <td>9</td>\n",
       "      <td>2021</td>\n",
       "      <td>Fiction</td>\n",
       "      <td>44</td>\n",
       "    </tr>\n",
       "    <tr>\n",
       "      <th>624</th>\n",
       "      <td>Paint by Sticker Kids: Zoo Animals: Create 10 ...</td>\n",
       "      <td>Workman Publishing</td>\n",
       "      <td>4.8</td>\n",
       "      <td>20182</td>\n",
       "      <td>8</td>\n",
       "      <td>2021</td>\n",
       "      <td>Non Fiction</td>\n",
       "      <td>34</td>\n",
       "    </tr>\n",
       "    <tr>\n",
       "      <th>637</th>\n",
       "      <td>The Hill We Climb: An Inaugural Poem for the C...</td>\n",
       "      <td>Amanda Gorman</td>\n",
       "      <td>4.9</td>\n",
       "      <td>14385</td>\n",
       "      <td>10</td>\n",
       "      <td>2021</td>\n",
       "      <td>Fiction</td>\n",
       "      <td>32</td>\n",
       "    </tr>\n",
       "    <tr>\n",
       "      <th>645</th>\n",
       "      <td>The Very Hungry Caterpillar</td>\n",
       "      <td>Eric Carle</td>\n",
       "      <td>4.9</td>\n",
       "      <td>47260</td>\n",
       "      <td>5</td>\n",
       "      <td>2021</td>\n",
       "      <td>Fiction</td>\n",
       "      <td>26</td>\n",
       "    </tr>\n",
       "    <tr>\n",
       "      <th>646</th>\n",
       "      <td>The Wonderful Things You Will Be</td>\n",
       "      <td>Emily Winfield Martin</td>\n",
       "      <td>4.9</td>\n",
       "      <td>20920</td>\n",
       "      <td>9</td>\n",
       "      <td>2021</td>\n",
       "      <td>Fiction</td>\n",
       "      <td>36</td>\n",
       "    </tr>\n",
       "  </tbody>\n",
       "</table>\n",
       "<p>106 rows × 8 columns</p>\n",
       "</div>"
      ],
      "text/plain": [
       "                                              название                  автор  \\\n",
       "49                           Where the Wild Things Are         Maurice Sendak   \n",
       "110                               Go the F**k to Sleep          Adam Mansbach   \n",
       "160  Goodnight, Goodnight Construction Site (Hardco...   Sherri Duskey Rinker   \n",
       "167                          Oh, the Places You'll Go!              Dr. Seuss   \n",
       "212  Goodnight, Goodnight Construction Site (Hardco...   Sherri Duskey Rinker   \n",
       "..                                                 ...                    ...   \n",
       "623                        Oh, the Places You'll Go!                Dr. Seuss   \n",
       "624  Paint by Sticker Kids: Zoo Animals: Create 10 ...     Workman Publishing   \n",
       "637  The Hill We Climb: An Inaugural Poem for the C...          Amanda Gorman   \n",
       "645                        The Very Hungry Caterpillar             Eric Carle   \n",
       "646                   The Wonderful Things You Will Be  Emily Winfield Martin   \n",
       "\n",
       "     рейтинг  обзоры  цена   год         жанр  кол-во страниц  \n",
       "49       4.8    9967    13  2009      Fiction              38  \n",
       "110      4.8    9568     9  2011      Fiction              17  \n",
       "160      4.9    7038     7  2012      Fiction              20  \n",
       "167      4.9   21834     8  2012      Fiction              44  \n",
       "212      4.9    7038     7  2013      Fiction              32  \n",
       "..       ...     ...   ...   ...          ...             ...  \n",
       "623      4.9   35287     9  2021      Fiction              44  \n",
       "624      4.8   20182     8  2021  Non Fiction              34  \n",
       "637      4.9   14385    10  2021      Fiction              32  \n",
       "645      4.9   47260     5  2021      Fiction              26  \n",
       "646      4.9   20920     9  2021      Fiction              36  \n",
       "\n",
       "[106 rows x 8 columns]"
      ]
     },
     "execution_count": 27,
     "metadata": {},
     "output_type": "execute_result"
    }
   ],
   "source": [
    "books[(books['рейтинг'] > 4.5) & (books['кол-во страниц']<100)] \n",
    "\n",
    "#106 книг с кол-во страниц до 100 имеют рейтинг выше 4.5\n",
    "#таким образом нет прямой закономерности между кол-вом страниц и величиной рейтинга"
   ]
  },
  {
   "cell_type": "markdown",
   "id": "aac9eaee",
   "metadata": {},
   "source": [
    "# Создадим категориальные переменные для градации рейтинга книг"
   ]
  },
  {
   "cell_type": "code",
   "execution_count": 28,
   "id": "e689a572",
   "metadata": {},
   "outputs": [
    {
     "data": {
      "text/plain": [
       "array([4.6, 4.7, 4.8, 4.5, 4.3, 4.2, 4. , 4.4, 4.1, 4.9, 3.8, 3.3, 3.9,\n",
       "       3.6])"
      ]
     },
     "execution_count": 28,
     "metadata": {},
     "output_type": "execute_result"
    }
   ],
   "source": [
    "books['рейтинг'].unique()"
   ]
  },
  {
   "cell_type": "code",
   "execution_count": 29,
   "id": "1b82ddbb",
   "metadata": {},
   "outputs": [],
   "source": [
    "def get_rating_cat(rating):\n",
    "    if rating <3.4:\n",
    "        return 'скучная'\n",
    "    elif rating < 3.9:\n",
    "        return 'заслуживает внимания'\n",
    "    elif rating <=4.6:\n",
    "        return 'интересная'\n",
    "    elif rating >= 4.7:\n",
    "        return 'выбор читатателей'\n",
    "#создадим категориальные переменные на основе читательского рейтинга"
   ]
  },
  {
   "cell_type": "code",
   "execution_count": 30,
   "id": "3336e976",
   "metadata": {},
   "outputs": [],
   "source": [
    "books['рейтинг_кат'] = books['рейтинг'].apply(get_rating_cat)"
   ]
  },
  {
   "cell_type": "code",
   "execution_count": 31,
   "id": "f3337e25",
   "metadata": {},
   "outputs": [],
   "source": [
    "books['рейтинг_кат'] = pd.Categorical(books['рейтинг_кат'])\n",
    "#добавим колонку с новой категорией в датасет"
   ]
  },
  {
   "cell_type": "code",
   "execution_count": 32,
   "id": "1570f206",
   "metadata": {},
   "outputs": [
    {
     "data": {
      "text/plain": [
       "0             интересная\n",
       "1             интересная\n",
       "2             интересная\n",
       "3      выбор читатателей\n",
       "4             интересная\n",
       "             ...        \n",
       "645    выбор читатателей\n",
       "646    выбор читатателей\n",
       "647    выбор читатателей\n",
       "648           интересная\n",
       "649           интересная\n",
       "Name: рейтинг_кат, Length: 650, dtype: category\n",
       "Categories (4, object): ['выбор читатателей', 'заслуживает внимания', 'интересная', 'скучная']"
      ]
     },
     "execution_count": 32,
     "metadata": {},
     "output_type": "execute_result"
    }
   ],
   "source": [
    "books['рейтинг_кат']"
   ]
  },
  {
   "cell_type": "code",
   "execution_count": 33,
   "id": "703cca50",
   "metadata": {},
   "outputs": [
    {
     "data": {
      "text/plain": [
       "Index(['выбор читатателей', 'заслуживает внимания', 'интересная', 'скучная'], dtype='object')"
      ]
     },
     "execution_count": 33,
     "metadata": {},
     "output_type": "execute_result"
    }
   ],
   "source": [
    "books['рейтинг_кат'].cat.categories\n",
    "#инфо о названиях существующих категориях "
   ]
  },
  {
   "cell_type": "code",
   "execution_count": 34,
   "id": "a75546b3",
   "metadata": {},
   "outputs": [
    {
     "data": {
      "text/html": [
       "<div>\n",
       "<style scoped>\n",
       "    .dataframe tbody tr th:only-of-type {\n",
       "        vertical-align: middle;\n",
       "    }\n",
       "\n",
       "    .dataframe tbody tr th {\n",
       "        vertical-align: top;\n",
       "    }\n",
       "\n",
       "    .dataframe thead th {\n",
       "        text-align: right;\n",
       "    }\n",
       "</style>\n",
       "<table border=\"1\" class=\"dataframe\">\n",
       "  <thead>\n",
       "    <tr style=\"text-align: right;\">\n",
       "      <th></th>\n",
       "      <th>название</th>\n",
       "      <th>автор</th>\n",
       "      <th>рейтинг</th>\n",
       "      <th>обзоры</th>\n",
       "      <th>цена</th>\n",
       "      <th>год</th>\n",
       "      <th>жанр</th>\n",
       "      <th>кол-во страниц</th>\n",
       "      <th>рейтинг_кат</th>\n",
       "    </tr>\n",
       "  </thead>\n",
       "  <tbody>\n",
       "    <tr>\n",
       "      <th>0</th>\n",
       "      <td>Act Like a Lady, Think Like a Man: What Men Re...</td>\n",
       "      <td>Steve Harvey</td>\n",
       "      <td>4.6</td>\n",
       "      <td>5013</td>\n",
       "      <td>17</td>\n",
       "      <td>2009</td>\n",
       "      <td>Non Fiction</td>\n",
       "      <td>232</td>\n",
       "      <td>интересная</td>\n",
       "    </tr>\n",
       "    <tr>\n",
       "      <th>1</th>\n",
       "      <td>Arguing with Idiots: How to Stop Small Minds a...</td>\n",
       "      <td>Glenn Beck</td>\n",
       "      <td>4.6</td>\n",
       "      <td>798</td>\n",
       "      <td>5</td>\n",
       "      <td>2009</td>\n",
       "      <td>Non Fiction</td>\n",
       "      <td>336</td>\n",
       "      <td>интересная</td>\n",
       "    </tr>\n",
       "    <tr>\n",
       "      <th>2</th>\n",
       "      <td>Breaking Dawn (The Twilight Saga, Book 4)</td>\n",
       "      <td>Stephenie Meyer</td>\n",
       "      <td>4.6</td>\n",
       "      <td>9769</td>\n",
       "      <td>13</td>\n",
       "      <td>2009</td>\n",
       "      <td>Fiction</td>\n",
       "      <td>756</td>\n",
       "      <td>интересная</td>\n",
       "    </tr>\n",
       "    <tr>\n",
       "      <th>3</th>\n",
       "      <td>Crazy Love: Overwhelmed by a Relentless God</td>\n",
       "      <td>Francis Chan</td>\n",
       "      <td>4.7</td>\n",
       "      <td>1542</td>\n",
       "      <td>14</td>\n",
       "      <td>2009</td>\n",
       "      <td>Non Fiction</td>\n",
       "      <td>187</td>\n",
       "      <td>выбор читатателей</td>\n",
       "    </tr>\n",
       "    <tr>\n",
       "      <th>4</th>\n",
       "      <td>Dead And Gone: A Sookie Stackhouse Novel (Sook...</td>\n",
       "      <td>Charlaine Harris</td>\n",
       "      <td>4.6</td>\n",
       "      <td>1541</td>\n",
       "      <td>4</td>\n",
       "      <td>2009</td>\n",
       "      <td>Fiction</td>\n",
       "      <td>320</td>\n",
       "      <td>интересная</td>\n",
       "    </tr>\n",
       "  </tbody>\n",
       "</table>\n",
       "</div>"
      ],
      "text/plain": [
       "                                            название             автор  \\\n",
       "0  Act Like a Lady, Think Like a Man: What Men Re...      Steve Harvey   \n",
       "1  Arguing with Idiots: How to Stop Small Minds a...        Glenn Beck   \n",
       "2          Breaking Dawn (The Twilight Saga, Book 4)   Stephenie Meyer   \n",
       "3        Crazy Love: Overwhelmed by a Relentless God      Francis Chan   \n",
       "4  Dead And Gone: A Sookie Stackhouse Novel (Sook...  Charlaine Harris   \n",
       "\n",
       "   рейтинг  обзоры  цена   год         жанр  кол-во страниц        рейтинг_кат  \n",
       "0      4.6    5013    17  2009  Non Fiction             232         интересная  \n",
       "1      4.6     798     5  2009  Non Fiction             336         интересная  \n",
       "2      4.6    9769    13  2009      Fiction             756         интересная  \n",
       "3      4.7    1542    14  2009  Non Fiction             187  выбор читатателей  \n",
       "4      4.6    1541     4  2009      Fiction             320         интересная  "
      ]
     },
     "execution_count": 34,
     "metadata": {},
     "output_type": "execute_result"
    }
   ],
   "source": [
    "books.head()"
   ]
  },
  {
   "cell_type": "code",
   "execution_count": 35,
   "id": "4993bc46",
   "metadata": {},
   "outputs": [
    {
     "data": {
      "text/plain": [
       "выбор читатателей       366\n",
       "интересная              280\n",
       "заслуживает внимания      3\n",
       "скучная                   1\n",
       "Name: рейтинг_кат, dtype: int64"
      ]
     },
     "execution_count": 35,
     "metadata": {},
     "output_type": "execute_result"
    }
   ],
   "source": [
    "books['рейтинг_кат'].value_counts(dropna=False)\n",
    "#поделив на категории, мы видим, что книг в категории \"выбор читателей\" самое большое кол-во. Связано с тем\n",
    "#что датасет называется \"Топ-50 книг с Амазон\""
   ]
  },
  {
   "cell_type": "markdown",
   "id": "7d692b96",
   "metadata": {},
   "source": [
    "# Введем бинарную переменную в столбец жанр"
   ]
  },
  {
   "cell_type": "code",
   "execution_count": 36,
   "id": "22474587",
   "metadata": {},
   "outputs": [],
   "source": [
    "books['жанр'] = books['жанр'].apply(lambda x:1 if x == 'Fiction' else 0)\n",
    "#для всех значений Fiction поставим значение 1, для Non Fiction 0"
   ]
  },
  {
   "cell_type": "code",
   "execution_count": 37,
   "id": "5ec90780",
   "metadata": {},
   "outputs": [
    {
     "data": {
      "text/html": [
       "<div>\n",
       "<style scoped>\n",
       "    .dataframe tbody tr th:only-of-type {\n",
       "        vertical-align: middle;\n",
       "    }\n",
       "\n",
       "    .dataframe tbody tr th {\n",
       "        vertical-align: top;\n",
       "    }\n",
       "\n",
       "    .dataframe thead th {\n",
       "        text-align: right;\n",
       "    }\n",
       "</style>\n",
       "<table border=\"1\" class=\"dataframe\">\n",
       "  <thead>\n",
       "    <tr style=\"text-align: right;\">\n",
       "      <th></th>\n",
       "      <th>название</th>\n",
       "      <th>автор</th>\n",
       "      <th>рейтинг</th>\n",
       "      <th>обзоры</th>\n",
       "      <th>цена</th>\n",
       "      <th>год</th>\n",
       "      <th>жанр</th>\n",
       "      <th>кол-во страниц</th>\n",
       "      <th>рейтинг_кат</th>\n",
       "    </tr>\n",
       "  </thead>\n",
       "  <tbody>\n",
       "    <tr>\n",
       "      <th>0</th>\n",
       "      <td>Act Like a Lady, Think Like a Man: What Men Re...</td>\n",
       "      <td>Steve Harvey</td>\n",
       "      <td>4.6</td>\n",
       "      <td>5013</td>\n",
       "      <td>17</td>\n",
       "      <td>2009</td>\n",
       "      <td>0</td>\n",
       "      <td>232</td>\n",
       "      <td>интересная</td>\n",
       "    </tr>\n",
       "    <tr>\n",
       "      <th>1</th>\n",
       "      <td>Arguing with Idiots: How to Stop Small Minds a...</td>\n",
       "      <td>Glenn Beck</td>\n",
       "      <td>4.6</td>\n",
       "      <td>798</td>\n",
       "      <td>5</td>\n",
       "      <td>2009</td>\n",
       "      <td>0</td>\n",
       "      <td>336</td>\n",
       "      <td>интересная</td>\n",
       "    </tr>\n",
       "    <tr>\n",
       "      <th>2</th>\n",
       "      <td>Breaking Dawn (The Twilight Saga, Book 4)</td>\n",
       "      <td>Stephenie Meyer</td>\n",
       "      <td>4.6</td>\n",
       "      <td>9769</td>\n",
       "      <td>13</td>\n",
       "      <td>2009</td>\n",
       "      <td>1</td>\n",
       "      <td>756</td>\n",
       "      <td>интересная</td>\n",
       "    </tr>\n",
       "    <tr>\n",
       "      <th>3</th>\n",
       "      <td>Crazy Love: Overwhelmed by a Relentless God</td>\n",
       "      <td>Francis Chan</td>\n",
       "      <td>4.7</td>\n",
       "      <td>1542</td>\n",
       "      <td>14</td>\n",
       "      <td>2009</td>\n",
       "      <td>0</td>\n",
       "      <td>187</td>\n",
       "      <td>выбор читатателей</td>\n",
       "    </tr>\n",
       "    <tr>\n",
       "      <th>4</th>\n",
       "      <td>Dead And Gone: A Sookie Stackhouse Novel (Sook...</td>\n",
       "      <td>Charlaine Harris</td>\n",
       "      <td>4.6</td>\n",
       "      <td>1541</td>\n",
       "      <td>4</td>\n",
       "      <td>2009</td>\n",
       "      <td>1</td>\n",
       "      <td>320</td>\n",
       "      <td>интересная</td>\n",
       "    </tr>\n",
       "  </tbody>\n",
       "</table>\n",
       "</div>"
      ],
      "text/plain": [
       "                                            название             автор  \\\n",
       "0  Act Like a Lady, Think Like a Man: What Men Re...      Steve Harvey   \n",
       "1  Arguing with Idiots: How to Stop Small Minds a...        Glenn Beck   \n",
       "2          Breaking Dawn (The Twilight Saga, Book 4)   Stephenie Meyer   \n",
       "3        Crazy Love: Overwhelmed by a Relentless God      Francis Chan   \n",
       "4  Dead And Gone: A Sookie Stackhouse Novel (Sook...  Charlaine Harris   \n",
       "\n",
       "   рейтинг  обзоры  цена   год  жанр  кол-во страниц        рейтинг_кат  \n",
       "0      4.6    5013    17  2009     0             232         интересная  \n",
       "1      4.6     798     5  2009     0             336         интересная  \n",
       "2      4.6    9769    13  2009     1             756         интересная  \n",
       "3      4.7    1542    14  2009     0             187  выбор читатателей  \n",
       "4      4.6    1541     4  2009     1             320         интересная  "
      ]
     },
     "execution_count": 37,
     "metadata": {},
     "output_type": "execute_result"
    }
   ],
   "source": [
    "books.head()"
   ]
  },
  {
   "cell_type": "code",
   "execution_count": 38,
   "id": "caef991a",
   "metadata": {},
   "outputs": [
    {
     "data": {
      "text/plain": [
       "жанр                      \n",
       "0     интересная              185\n",
       "      выбор читатателей       179\n",
       "      заслуживает внимания      0\n",
       "      скучная                   0\n",
       "1     выбор читатателей       187\n",
       "      интересная               95\n",
       "      заслуживает внимания      3\n",
       "      скучная                   1\n",
       "Name: рейтинг_кат, dtype: int64"
      ]
     },
     "execution_count": 38,
     "metadata": {},
     "output_type": "execute_result"
    }
   ],
   "source": [
    "books.groupby('жанр')['рейтинг_кат'].value_counts()\n",
    "#в жанре Fiction книг категории \"выбор читателей\" - 187 и т.д."
   ]
  },
  {
   "cell_type": "markdown",
   "id": "fc7289d9",
   "metadata": {},
   "source": [
    "# Визуализация переменных"
   ]
  },
  {
   "cell_type": "code",
   "execution_count": 76,
   "id": "b829e08b",
   "metadata": {},
   "outputs": [],
   "source": [
    "import matplotlib.pyplot as plt"
   ]
  },
  {
   "cell_type": "code",
   "execution_count": 80,
   "id": "0d215cb7",
   "metadata": {
    "scrolled": true
   },
   "outputs": [
    {
     "data": {
      "image/png": "[encoded data removed]",
      "text/plain": [
       "<Figure size 1440x1584 with 6 Axes>"
      ]
     },
     "metadata": {
      "needs_background": "light"
     },
     "output_type": "display_data"
    }
   ],
   "source": [
    "books.hist()\n",
    "plt.rcParams['figure.figsize'] = (18,20)"
   ]
  },
  {
   "cell_type": "code",
   "execution_count": 40,
   "id": "bcb26d85",
   "metadata": {
    "scrolled": false
   },
   "outputs": [
    {
     "data": {
      "text/plain": [
       "<AxesSubplot:>"
      ]
     },
     "execution_count": 40,
     "metadata": {},
     "output_type": "execute_result"
    },
    {
     "data": {
      "image/png": "[encoded data removed]",
      "text/plain": [
       "<Figure size 432x288 with 1 Axes>"
      ]
     },
     "metadata": {
      "needs_background": "light"
     },
     "output_type": "display_data"
    }
   ],
   "source": [
    "books['цена'].hist(bins=40)\n",
    "#разброс цен на графике, визуализация количественной перменной"
   ]
  },
  {
   "cell_type": "code",
   "execution_count": 41,
   "id": "12da1e57",
   "metadata": {},
   "outputs": [
    {
     "data": {
      "text/plain": [
       "<AxesSubplot:>"
      ]
     },
     "execution_count": 41,
     "metadata": {},
     "output_type": "execute_result"
    },
    {
     "data": {
      "image/png": "[encoded data removed]",
      "text/plain": [
       "<Figure size 432x288 with 1 Axes>"
      ]
     },
     "metadata": {
      "needs_background": "light"
     },
     "output_type": "display_data"
    }
   ],
   "source": [
    "books['рейтинг_кат'].value_counts().plot(kind='bar', color = '#E745C0')\n",
    "# визуализация качественных переменных\n",
    "#графическое изображение категорий рейтинга книг, 366 книг с в категории \"выбор читателей\"\n",
    "#переменные располагаются в порядке от большего к меньшему"
   ]
  },
  {
   "cell_type": "code",
   "execution_count": 42,
   "id": "d8a338b4",
   "metadata": {},
   "outputs": [
    {
     "data": {
      "text/plain": [
       "<AxesSubplot:xlabel='рейтинг_кат'>"
      ]
     },
     "execution_count": 42,
     "metadata": {},
     "output_type": "execute_result"
    },
    {
     "data": {
      "image/png": "[encoded data removed]",
      "text/plain": [
       "<Figure size 432x288 with 1 Axes>"
      ]
     },
     "metadata": {
      "needs_background": "light"
     },
     "output_type": "display_data"
    }
   ],
   "source": [
    "books.groupby('рейтинг_кат').size().plot(kind='bar')\n",
    "#переменные располагаются в алфавитном порядке"
   ]
  },
  {
   "cell_type": "code",
   "execution_count": 43,
   "id": "6cc6f932",
   "metadata": {},
   "outputs": [
    {
     "data": {
      "text/html": [
       "<div>\n",
       "<style scoped>\n",
       "    .dataframe tbody tr th:only-of-type {\n",
       "        vertical-align: middle;\n",
       "    }\n",
       "\n",
       "    .dataframe tbody tr th {\n",
       "        vertical-align: top;\n",
       "    }\n",
       "\n",
       "    .dataframe thead th {\n",
       "        text-align: right;\n",
       "    }\n",
       "</style>\n",
       "<table border=\"1\" class=\"dataframe\">\n",
       "  <thead>\n",
       "    <tr style=\"text-align: right;\">\n",
       "      <th></th>\n",
       "      <th>выбор читатателей</th>\n",
       "      <th>заслуживает внимания</th>\n",
       "      <th>интересная</th>\n",
       "      <th>скучная</th>\n",
       "    </tr>\n",
       "    <tr>\n",
       "      <th>жанр</th>\n",
       "      <th></th>\n",
       "      <th></th>\n",
       "      <th></th>\n",
       "      <th></th>\n",
       "    </tr>\n",
       "  </thead>\n",
       "  <tbody>\n",
       "    <tr>\n",
       "      <th>0</th>\n",
       "      <td>179</td>\n",
       "      <td>0</td>\n",
       "      <td>185</td>\n",
       "      <td>0</td>\n",
       "    </tr>\n",
       "    <tr>\n",
       "      <th>1</th>\n",
       "      <td>187</td>\n",
       "      <td>3</td>\n",
       "      <td>95</td>\n",
       "      <td>1</td>\n",
       "    </tr>\n",
       "  </tbody>\n",
       "</table>\n",
       "</div>"
      ],
      "text/plain": [
       "      выбор читатателей  заслуживает внимания  интересная  скучная\n",
       "жанр                                                              \n",
       "0                   179                     0         185        0\n",
       "1                   187                     3          95        1"
      ]
     },
     "execution_count": 43,
     "metadata": {},
     "output_type": "execute_result"
    }
   ],
   "source": [
    "books.groupby('жанр')['рейтинг_кат'].value_counts().unstack()"
   ]
  },
  {
   "cell_type": "code",
   "execution_count": 44,
   "id": "743874d0",
   "metadata": {},
   "outputs": [
    {
     "data": {
      "text/plain": [
       "<AxesSubplot:xlabel='жанр'>"
      ]
     },
     "execution_count": 44,
     "metadata": {},
     "output_type": "execute_result"
    },
    {
     "data": {
      "image/png": "[encoded data removed]",
      "text/plain": [
       "<Figure size 432x288 with 1 Axes>"
      ]
     },
     "metadata": {
      "needs_background": "light"
     },
     "output_type": "display_data"
    }
   ],
   "source": [
    "books.groupby('жанр')['рейтинг_кат'].value_counts().unstack().plot(kind='bar')"
   ]
  },
  {
   "cell_type": "code",
   "execution_count": 45,
   "id": "e01f351a",
   "metadata": {},
   "outputs": [
    {
     "data": {
      "text/plain": [
       "<AxesSubplot:xlabel='жанр'>"
      ]
     },
     "execution_count": 45,
     "metadata": {},
     "output_type": "execute_result"
    },
    {
     "data": {
      "image/png": "[encoded data removed]",
      "text/plain": [
       "<Figure size 432x288 with 1 Axes>"
      ]
     },
     "metadata": {
      "needs_background": "light"
     },
     "output_type": "display_data"
    }
   ],
   "source": [
    "books.groupby('жанр')['рейтинг_кат'].value_counts().unstack().plot(kind='bar', stacked=True)"
   ]
  },
  {
   "cell_type": "code",
   "execution_count": 46,
   "id": "7322b2e8",
   "metadata": {
    "scrolled": true
   },
   "outputs": [
    {
     "data": {
      "text/plain": [
       "рейтинг\n",
       "3.3    12.000000\n",
       "3.6    19.000000\n",
       "3.8    14.000000\n",
       "3.9    17.666667\n",
       "4.0    14.466667\n",
       "4.1    11.666667\n",
       "4.2    11.625000\n",
       "4.3    13.285714\n",
       "4.4    14.410256\n",
       "4.5    20.215385\n",
       "4.6    12.086207\n",
       "4.7    12.769231\n",
       "4.8    10.728916\n",
       "4.9     9.771429\n",
       "Name: цена, dtype: float64"
      ]
     },
     "execution_count": 46,
     "metadata": {},
     "output_type": "execute_result"
    }
   ],
   "source": [
    "books.groupby('рейтинг')['цена'].mean()"
   ]
  },
  {
   "cell_type": "code",
   "execution_count": 53,
   "id": "c2262151",
   "metadata": {
    "scrolled": false
   },
   "outputs": [
    {
     "data": {
      "text/plain": [
       "<AxesSubplot:title={'center':'Ср. стоимость книг в зависимости от рейтинга'}, ylabel='цена'>"
      ]
     },
     "execution_count": 53,
     "metadata": {},
     "output_type": "execute_result"
    },
    {
     "data": {
      "image/png": "[encoded data removed]",
      "text/plain": [
       "<Figure size 432x288 with 1 Axes>"
      ]
     },
     "metadata": {},
     "output_type": "display_data"
    }
   ],
   "source": [
    "books.groupby('рейтинг')['цена'].mean().plot(kind = 'pie', colors = colors, shadow=True, startangle = 180, textprops = {'color': 'b'},\n",
    "                                              title = 'Ср. стоимость книг в зависимости от рейтинга'\n",
    "                                                   )\n"
   ]
  },
  {
   "cell_type": "code",
   "execution_count": 52,
   "id": "294c2128",
   "metadata": {},
   "outputs": [],
   "source": [
    "colors = ['#88A254', '#900080', '#1E4333','#E745C0','#98CD1D', '#45AAE7', '#C5E745', '#618411','#495430','#09101F',\n",
    "          '#42DDF7','#A7AEF8', 'Blue','Red']"
   ]
  },
  {
   "cell_type": "code",
   "execution_count": 49,
   "id": "a0d2e837",
   "metadata": {},
   "outputs": [
    {
     "data": {
      "text/plain": [
       "0    364\n",
       "1    286\n",
       "Name: жанр, dtype: int64"
      ]
     },
     "execution_count": 49,
     "metadata": {},
     "output_type": "execute_result"
    }
   ],
   "source": [
    "books['жанр'].value_counts()"
   ]
  },
  {
   "cell_type": "code",
   "execution_count": 51,
   "id": "fb686174",
   "metadata": {},
   "outputs": [
    {
     "data": {
      "image/png": "[encoded data removed]",
      "text/plain": [
       "<Figure size 432x288 with 1 Axes>"
      ]
     },
     "metadata": {},
     "output_type": "display_data"
    }
   ],
   "source": [
    "books['жанр'].value_counts().plot(kind = 'pie', colors = colors, shadow=True, startangle = 180, textprops = {'color': 'b'}, \n",
    "                                                   autopct = '%.3f%%')\n",
    "colors = ['#45AAE7', '#C5E745']\n",
    "\n",
    "# В рейтинге топ-50 в жанре нехудожественной литературы 56% книг"
   ]
  },
  {
   "cell_type": "markdown",
   "id": "95d26ca1",
   "metadata": {},
   "source": [
    "# Меры центральной тенденции"
   ]
  },
  {
   "cell_type": "code",
   "execution_count": 54,
   "id": "ee112a78",
   "metadata": {},
   "outputs": [
    {
     "data": {
      "text/html": [
       "<div>\n",
       "<style scoped>\n",
       "    .dataframe tbody tr th:only-of-type {\n",
       "        vertical-align: middle;\n",
       "    }\n",
       "\n",
       "    .dataframe tbody tr th {\n",
       "        vertical-align: top;\n",
       "    }\n",
       "\n",
       "    .dataframe thead th {\n",
       "        text-align: right;\n",
       "    }\n",
       "</style>\n",
       "<table border=\"1\" class=\"dataframe\">\n",
       "  <thead>\n",
       "    <tr style=\"text-align: right;\">\n",
       "      <th></th>\n",
       "      <th>рейтинг</th>\n",
       "      <th>обзоры</th>\n",
       "      <th>цена</th>\n",
       "      <th>год</th>\n",
       "      <th>жанр</th>\n",
       "      <th>кол-во страниц</th>\n",
       "    </tr>\n",
       "  </thead>\n",
       "  <tbody>\n",
       "    <tr>\n",
       "      <th>count</th>\n",
       "      <td>650.000000</td>\n",
       "      <td>650.000000</td>\n",
       "      <td>650.000000</td>\n",
       "      <td>650.000000</td>\n",
       "      <td>650.000000</td>\n",
       "      <td>650.000000</td>\n",
       "    </tr>\n",
       "    <tr>\n",
       "      <th>mean</th>\n",
       "      <td>4.635846</td>\n",
       "      <td>17591.963077</td>\n",
       "      <td>12.718462</td>\n",
       "      <td>2015.000000</td>\n",
       "      <td>0.440000</td>\n",
       "      <td>302.218462</td>\n",
       "    </tr>\n",
       "    <tr>\n",
       "      <th>std</th>\n",
       "      <td>0.221199</td>\n",
       "      <td>21051.505626</td>\n",
       "      <td>10.169706</td>\n",
       "      <td>3.744539</td>\n",
       "      <td>0.496769</td>\n",
       "      <td>203.420773</td>\n",
       "    </tr>\n",
       "    <tr>\n",
       "      <th>min</th>\n",
       "      <td>3.300000</td>\n",
       "      <td>37.000000</td>\n",
       "      <td>0.000000</td>\n",
       "      <td>2009.000000</td>\n",
       "      <td>0.000000</td>\n",
       "      <td>12.000000</td>\n",
       "    </tr>\n",
       "    <tr>\n",
       "      <th>25%</th>\n",
       "      <td>4.500000</td>\n",
       "      <td>4789.250000</td>\n",
       "      <td>7.000000</td>\n",
       "      <td>2012.000000</td>\n",
       "      <td>0.000000</td>\n",
       "      <td>175.250000</td>\n",
       "    </tr>\n",
       "    <tr>\n",
       "      <th>50%</th>\n",
       "      <td>4.700000</td>\n",
       "      <td>9907.000000</td>\n",
       "      <td>11.000000</td>\n",
       "      <td>2015.000000</td>\n",
       "      <td>0.000000</td>\n",
       "      <td>288.000000</td>\n",
       "    </tr>\n",
       "    <tr>\n",
       "      <th>75%</th>\n",
       "      <td>4.800000</td>\n",
       "      <td>22634.250000</td>\n",
       "      <td>15.000000</td>\n",
       "      <td>2018.000000</td>\n",
       "      <td>1.000000</td>\n",
       "      <td>385.000000</td>\n",
       "    </tr>\n",
       "    <tr>\n",
       "      <th>max</th>\n",
       "      <td>4.900000</td>\n",
       "      <td>208915.000000</td>\n",
       "      <td>105.000000</td>\n",
       "      <td>2021.000000</td>\n",
       "      <td>1.000000</td>\n",
       "      <td>1200.000000</td>\n",
       "    </tr>\n",
       "  </tbody>\n",
       "</table>\n",
       "</div>"
      ],
      "text/plain": [
       "          рейтинг         обзоры        цена          год        жанр  \\\n",
       "count  650.000000     650.000000  650.000000   650.000000  650.000000   \n",
       "mean     4.635846   17591.963077   12.718462  2015.000000    0.440000   \n",
       "std      0.221199   21051.505626   10.169706     3.744539    0.496769   \n",
       "min      3.300000      37.000000    0.000000  2009.000000    0.000000   \n",
       "25%      4.500000    4789.250000    7.000000  2012.000000    0.000000   \n",
       "50%      4.700000    9907.000000   11.000000  2015.000000    0.000000   \n",
       "75%      4.800000   22634.250000   15.000000  2018.000000    1.000000   \n",
       "max      4.900000  208915.000000  105.000000  2021.000000    1.000000   \n",
       "\n",
       "       кол-во страниц  \n",
       "count      650.000000  \n",
       "mean       302.218462  \n",
       "std        203.420773  \n",
       "min         12.000000  \n",
       "25%        175.250000  \n",
       "50%        288.000000  \n",
       "75%        385.000000  \n",
       "max       1200.000000  "
      ]
     },
     "execution_count": 54,
     "metadata": {},
     "output_type": "execute_result"
    }
   ],
   "source": [
    "books.describe()\n",
    "#Для всех колличественных переменных рассчитаем среднюю арифметическую, стандартное отклонение\n",
    "#максимальное и минимальное значение"
   ]
  },
  {
   "cell_type": "code",
   "execution_count": 55,
   "id": "b3680336",
   "metadata": {},
   "outputs": [
    {
     "data": {
      "text/plain": [
       "11.0"
      ]
     },
     "execution_count": 55,
     "metadata": {},
     "output_type": "execute_result"
    }
   ],
   "source": [
    "books['цена'].median()\n",
    "#медианное значение цены 11 долларов"
   ]
  },
  {
   "cell_type": "code",
   "execution_count": 56,
   "id": "4fea7153",
   "metadata": {
    "scrolled": true
   },
   "outputs": [
    {
     "data": {
      "text/plain": [
       "0    8\n",
       "Name: цена, dtype: int64"
      ]
     },
     "execution_count": 56,
     "metadata": {},
     "output_type": "execute_result"
    }
   ],
   "source": [
    "books['цена'].mode()\n",
    "#самая частая стоимость книг во всех жанрах 8 долларов"
   ]
  },
  {
   "cell_type": "code",
   "execution_count": 57,
   "id": "db520bcf",
   "metadata": {},
   "outputs": [
    {
     "data": {
      "text/plain": [
       "8      61\n",
       "5      48\n",
       "6      44\n",
       "9      43\n",
       "14     40\n",
       "11     39\n",
       "10     36\n",
       "4      36\n",
       "13     35\n",
       "12     33\n",
       "7      33\n",
       "16     26\n",
       "15     24\n",
       "17     22\n",
       "20     20\n",
       "18     16\n",
       "0      12\n",
       "21     11\n",
       "46     10\n",
       "22      6\n",
       "28      6\n",
       "2       5\n",
       "19      5\n",
       "23      5\n",
       "30      5\n",
       "40      5\n",
       "24      5\n",
       "27      4\n",
       "105     2\n",
       "32      2\n",
       "25      2\n",
       "53      1\n",
       "42      1\n",
       "82      1\n",
       "1       1\n",
       "39      1\n",
       "54      1\n",
       "52      1\n",
       "36      1\n",
       "3       1\n",
       "Name: цена, dtype: int64"
      ]
     },
     "execution_count": 57,
     "metadata": {},
     "output_type": "execute_result"
    }
   ],
   "source": [
    "books['цена'].value_counts()\n",
    "#подтверждаем, что самая частая цена для книг - 8 долларов. Встречается 61 раз"
   ]
  },
  {
   "cell_type": "code",
   "execution_count": 58,
   "id": "eafb293e",
   "metadata": {},
   "outputs": [
    {
     "data": {
      "text/plain": [
       "жанр\n",
       "0    6\n",
       "1    5\n",
       "Name: цена, dtype: int64"
      ]
     },
     "execution_count": 58,
     "metadata": {},
     "output_type": "execute_result"
    }
   ],
   "source": [
    "books.groupby('жанр')['цена'].agg(lambda x: x.value_counts().index[0])\n",
    "#самые распрастраненные цены для книг в жанре художественная литература 5 долларов \n",
    "#и 6 долларов в жанре не художественной литературы"
   ]
  },
  {
   "cell_type": "code",
   "execution_count": 59,
   "id": "3efd4bd9",
   "metadata": {},
   "outputs": [
    {
     "data": {
      "text/plain": [
       "жанр\n",
       "0    14.406593\n",
       "1    10.569930\n",
       "Name: цена, dtype: float64"
      ]
     },
     "execution_count": 59,
     "metadata": {},
     "output_type": "execute_result"
    }
   ],
   "source": [
    "books.groupby('жанр')['цена'].agg('mean')\n",
    "#ср.арифм цена на книги в разных жанрах значительно отличается от цены параметра мода\n",
    "#может быть связано с наличием вбросов по максимальным значениям с большой разницей от средних значений"
   ]
  },
  {
   "cell_type": "code",
   "execution_count": 60,
   "id": "721db09c",
   "metadata": {},
   "outputs": [
    {
     "data": {
      "text/html": [
       "<div>\n",
       "<style scoped>\n",
       "    .dataframe tbody tr th:only-of-type {\n",
       "        vertical-align: middle;\n",
       "    }\n",
       "\n",
       "    .dataframe tbody tr th {\n",
       "        vertical-align: top;\n",
       "    }\n",
       "\n",
       "    .dataframe thead th {\n",
       "        text-align: right;\n",
       "    }\n",
       "</style>\n",
       "<table border=\"1\" class=\"dataframe\">\n",
       "  <thead>\n",
       "    <tr style=\"text-align: right;\">\n",
       "      <th></th>\n",
       "      <th>mean</th>\n",
       "      <th>median</th>\n",
       "    </tr>\n",
       "    <tr>\n",
       "      <th>жанр</th>\n",
       "      <th></th>\n",
       "      <th></th>\n",
       "    </tr>\n",
       "  </thead>\n",
       "  <tbody>\n",
       "    <tr>\n",
       "      <th>0</th>\n",
       "      <td>14.406593</td>\n",
       "      <td>12.0</td>\n",
       "    </tr>\n",
       "    <tr>\n",
       "      <th>1</th>\n",
       "      <td>10.569930</td>\n",
       "      <td>9.0</td>\n",
       "    </tr>\n",
       "  </tbody>\n",
       "</table>\n",
       "</div>"
      ],
      "text/plain": [
       "           mean  median\n",
       "жанр                   \n",
       "0     14.406593    12.0\n",
       "1     10.569930     9.0"
      ]
     },
     "execution_count": 60,
     "metadata": {},
     "output_type": "execute_result"
    }
   ],
   "source": [
    "books.groupby('жанр')['цена'].agg(['mean','median'])\n",
    "#ср. арифм и медаина цен для книг в разных жанрах"
   ]
  },
  {
   "cell_type": "code",
   "execution_count": 61,
   "id": "5b9b1e2c",
   "metadata": {},
   "outputs": [
    {
     "data": {
      "text/html": [
       "<div>\n",
       "<style scoped>\n",
       "    .dataframe tbody tr th:only-of-type {\n",
       "        vertical-align: middle;\n",
       "    }\n",
       "\n",
       "    .dataframe tbody tr th {\n",
       "        vertical-align: top;\n",
       "    }\n",
       "\n",
       "    .dataframe thead tr th {\n",
       "        text-align: left;\n",
       "    }\n",
       "\n",
       "    .dataframe thead tr:last-of-type th {\n",
       "        text-align: right;\n",
       "    }\n",
       "</style>\n",
       "<table border=\"1\" class=\"dataframe\">\n",
       "  <thead>\n",
       "    <tr>\n",
       "      <th></th>\n",
       "      <th colspan=\"2\" halign=\"left\">mean</th>\n",
       "      <th colspan=\"2\" halign=\"left\">median</th>\n",
       "    </tr>\n",
       "    <tr>\n",
       "      <th></th>\n",
       "      <th>кол-во страниц</th>\n",
       "      <th>цена</th>\n",
       "      <th>кол-во страниц</th>\n",
       "      <th>цена</th>\n",
       "    </tr>\n",
       "    <tr>\n",
       "      <th>рейтинг_кат</th>\n",
       "      <th></th>\n",
       "      <th></th>\n",
       "      <th></th>\n",
       "      <th></th>\n",
       "    </tr>\n",
       "  </thead>\n",
       "  <tbody>\n",
       "    <tr>\n",
       "      <th>выбор читатателей</th>\n",
       "      <td>254.945355</td>\n",
       "      <td>11.270492</td>\n",
       "      <td>252.5</td>\n",
       "      <td>9</td>\n",
       "    </tr>\n",
       "    <tr>\n",
       "      <th>заслуживает внимания</th>\n",
       "      <td>330.000000</td>\n",
       "      <td>15.666667</td>\n",
       "      <td>356.0</td>\n",
       "      <td>14</td>\n",
       "    </tr>\n",
       "    <tr>\n",
       "      <th>интересная</th>\n",
       "      <td>362.996429</td>\n",
       "      <td>14.582143</td>\n",
       "      <td>314.0</td>\n",
       "      <td>12</td>\n",
       "    </tr>\n",
       "    <tr>\n",
       "      <th>скучная</th>\n",
       "      <td>503.000000</td>\n",
       "      <td>12.000000</td>\n",
       "      <td>503.0</td>\n",
       "      <td>12</td>\n",
       "    </tr>\n",
       "  </tbody>\n",
       "</table>\n",
       "</div>"
      ],
      "text/plain": [
       "                               mean                    median     \n",
       "                     кол-во страниц       цена кол-во страниц цена\n",
       "рейтинг_кат                                                       \n",
       "выбор читатателей        254.945355  11.270492          252.5    9\n",
       "заслуживает внимания     330.000000  15.666667          356.0   14\n",
       "интересная               362.996429  14.582143          314.0   12\n",
       "скучная                  503.000000  12.000000          503.0   12"
      ]
     },
     "execution_count": 61,
     "metadata": {},
     "output_type": "execute_result"
    }
   ],
   "source": [
    "books.pivot_table(index='рейтинг_кат',\n",
    "                 values=['цена','кол-во страниц'],\n",
    "                  aggfunc=['mean','median'])\n",
    "\n",
    "#сводные данные по категории рейтинг с рассчетом средних и медианных значения по кол-ву страниц и цене"
   ]
  },
  {
   "cell_type": "markdown",
   "id": "b1197f10",
   "metadata": {},
   "source": [
    "# Меры разброса"
   ]
  },
  {
   "cell_type": "code",
   "execution_count": 62,
   "id": "bb741e77",
   "metadata": {},
   "outputs": [],
   "source": [
    "import numpy as np"
   ]
  },
  {
   "cell_type": "code",
   "execution_count": 63,
   "id": "bc0fc59f",
   "metadata": {},
   "outputs": [
    {
     "data": {
      "text/plain": [
       "<AxesSubplot:>"
      ]
     },
     "execution_count": 63,
     "metadata": {},
     "output_type": "execute_result"
    },
    {
     "data": {
      "image/png": "[encoded data removed]",
      "text/plain": [
       "<Figure size 432x288 with 1 Axes>"
      ]
     },
     "metadata": {
      "needs_background": "light"
     },
     "output_type": "display_data"
    }
   ],
   "source": [
    "books['цена'].hist()"
   ]
  },
  {
   "cell_type": "code",
   "execution_count": 64,
   "id": "ec018b9b",
   "metadata": {},
   "outputs": [
    {
     "data": {
      "text/plain": [
       "7.0"
      ]
     },
     "execution_count": 64,
     "metadata": {},
     "output_type": "execute_result"
    }
   ],
   "source": [
    "#интеквартильный размах\n",
    "\n",
    "books.describe()['цена']['25%']"
   ]
  },
  {
   "cell_type": "code",
   "execution_count": 65,
   "id": "ef95af23",
   "metadata": {},
   "outputs": [
    {
     "data": {
      "text/plain": [
       "15.0"
      ]
     },
     "execution_count": 65,
     "metadata": {},
     "output_type": "execute_result"
    }
   ],
   "source": [
    "np.percentile(books['цена'],75)"
   ]
  },
  {
   "cell_type": "code",
   "execution_count": 66,
   "id": "62e3cecc",
   "metadata": {},
   "outputs": [
    {
     "data": {
      "text/plain": [
       "8.0"
      ]
     },
     "execution_count": 66,
     "metadata": {},
     "output_type": "execute_result"
    }
   ],
   "source": [
    "np.percentile(books['цена'],75)-np.percentile(books['цена'],25)\n",
    "#интеквартильный размах"
   ]
  },
  {
   "cell_type": "code",
   "execution_count": 67,
   "id": "f750aab9",
   "metadata": {},
   "outputs": [
    {
     "name": "stdout",
     "output_type": "stream",
     "text": [
      "103.42292521038283 10.169706249955444\n"
     ]
    }
   ],
   "source": [
    "books_mean= books['цена'].mean()\n",
    "deviations =books['цена'] - books_mean\n",
    "sq_deviations = deviations**2\n",
    "variance_samp= sq_deviations.sum()/(len(books)-1)\n",
    "std_samp=np.sqrt(variance_samp)\n",
    "print(variance_samp,std_samp)"
   ]
  },
  {
   "cell_type": "code",
   "execution_count": 68,
   "id": "a4102838",
   "metadata": {},
   "outputs": [
    {
     "name": "stdout",
     "output_type": "stream",
     "text": [
      "103.26381301775147 10.161880387888429\n"
     ]
    }
   ],
   "source": [
    "#среднеквадратиное отклоненение генеральной совокупности\n",
    "variance_pop=sq_deviations.sum()/(len(books))\n",
    "std_pop=np.sqrt(variance_pop)\n",
    "print(variance_pop,std_pop)"
   ]
  },
  {
   "cell_type": "code",
   "execution_count": 69,
   "id": "e4b5ea7e",
   "metadata": {},
   "outputs": [
    {
     "name": "stdout",
     "output_type": "stream",
     "text": [
      "103.4229252103828\n",
      "10.169706249955443\n"
     ]
    }
   ],
   "source": [
    "#дисперсия и среднеквадр отклонение\n",
    "print(books['цена'].var())\n",
    "print(books['цена'].std())"
   ]
  },
  {
   "cell_type": "code",
   "execution_count": 70,
   "id": "a2ec5005",
   "metadata": {},
   "outputs": [
    {
     "data": {
      "text/plain": [
       "count    650.000000\n",
       "mean      12.718462\n",
       "std       10.169706\n",
       "min        0.000000\n",
       "25%        7.000000\n",
       "50%       11.000000\n",
       "75%       15.000000\n",
       "max      105.000000\n",
       "Name: цена, dtype: float64"
      ]
     },
     "execution_count": 70,
     "metadata": {},
     "output_type": "execute_result"
    }
   ],
   "source": [
    "books['цена'].describe()"
   ]
  },
  {
   "cell_type": "code",
   "execution_count": 71,
   "id": "67c0e7e4",
   "metadata": {},
   "outputs": [],
   "source": [
    "q1 = books['цена'].quantile(0.25)\n",
    "q3 =  books['цена'].quantile(0.75)\n",
    "iqr = q3 - q1"
   ]
  },
  {
   "cell_type": "code",
   "execution_count": 72,
   "id": "30efb7d3",
   "metadata": {},
   "outputs": [
    {
     "name": "stdout",
     "output_type": "stream",
     "text": [
      "-5.0\n",
      "27.0\n"
     ]
    }
   ],
   "source": [
    "iqr_outlier_threshold_bottom = q1 - 1.5 * iqr\n",
    "iqr_outlier_threshold_up = q3 + 1.5 * iqr\n",
    "print(iqr_outlier_threshold_bottom)\n",
    "print(iqr_outlier_threshold_up)\n",
    "\n",
    "#значение -5 является невозможным в рамках наших данных, так как у нас нет книг с отрицательной ценой"
   ]
  },
  {
   "cell_type": "markdown",
   "id": "00902fe9",
   "metadata": {},
   "source": [
    "# Увеличилась ли стоимость книг в 2021 году по сравнению с 2009?"
   ]
  },
  {
   "cell_type": "code",
   "execution_count": 73,
   "id": "505c4cf1",
   "metadata": {},
   "outputs": [
    {
     "data": {
      "text/html": [
       "<div>\n",
       "<style scoped>\n",
       "    .dataframe tbody tr th:only-of-type {\n",
       "        vertical-align: middle;\n",
       "    }\n",
       "\n",
       "    .dataframe tbody tr th {\n",
       "        vertical-align: top;\n",
       "    }\n",
       "\n",
       "    .dataframe thead th {\n",
       "        text-align: right;\n",
       "    }\n",
       "</style>\n",
       "<table border=\"1\" class=\"dataframe\">\n",
       "  <thead>\n",
       "    <tr style=\"text-align: right;\">\n",
       "      <th></th>\n",
       "      <th>цена</th>\n",
       "      <th>год</th>\n",
       "    </tr>\n",
       "  </thead>\n",
       "  <tbody>\n",
       "    <tr>\n",
       "      <th>0</th>\n",
       "      <td>17</td>\n",
       "      <td>2009</td>\n",
       "    </tr>\n",
       "    <tr>\n",
       "      <th>1</th>\n",
       "      <td>5</td>\n",
       "      <td>2009</td>\n",
       "    </tr>\n",
       "    <tr>\n",
       "      <th>2</th>\n",
       "      <td>13</td>\n",
       "      <td>2009</td>\n",
       "    </tr>\n",
       "    <tr>\n",
       "      <th>3</th>\n",
       "      <td>14</td>\n",
       "      <td>2009</td>\n",
       "    </tr>\n",
       "    <tr>\n",
       "      <th>4</th>\n",
       "      <td>4</td>\n",
       "      <td>2009</td>\n",
       "    </tr>\n",
       "    <tr>\n",
       "      <th>...</th>\n",
       "      <td>...</td>\n",
       "      <td>...</td>\n",
       "    </tr>\n",
       "    <tr>\n",
       "      <th>645</th>\n",
       "      <td>5</td>\n",
       "      <td>2021</td>\n",
       "    </tr>\n",
       "    <tr>\n",
       "      <th>646</th>\n",
       "      <td>9</td>\n",
       "      <td>2021</td>\n",
       "    </tr>\n",
       "    <tr>\n",
       "      <th>647</th>\n",
       "      <td>8</td>\n",
       "      <td>2021</td>\n",
       "    </tr>\n",
       "    <tr>\n",
       "      <th>648</th>\n",
       "      <td>16</td>\n",
       "      <td>2021</td>\n",
       "    </tr>\n",
       "    <tr>\n",
       "      <th>649</th>\n",
       "      <td>6</td>\n",
       "      <td>2021</td>\n",
       "    </tr>\n",
       "  </tbody>\n",
       "</table>\n",
       "<p>650 rows × 2 columns</p>\n",
       "</div>"
      ],
      "text/plain": [
       "     цена   год\n",
       "0      17  2009\n",
       "1       5  2009\n",
       "2      13  2009\n",
       "3      14  2009\n",
       "4       4  2009\n",
       "..    ...   ...\n",
       "645     5  2021\n",
       "646     9  2021\n",
       "647     8  2021\n",
       "648    16  2021\n",
       "649     6  2021\n",
       "\n",
       "[650 rows x 2 columns]"
      ]
     },
     "execution_count": 73,
     "metadata": {},
     "output_type": "execute_result"
    }
   ],
   "source": [
    "books[['цена','год']]"
   ]
  },
  {
   "cell_type": "code",
   "execution_count": 74,
   "id": "97888fb2",
   "metadata": {},
   "outputs": [
    {
     "data": {
      "text/html": [
       "<div>\n",
       "<style scoped>\n",
       "    .dataframe tbody tr th:only-of-type {\n",
       "        vertical-align: middle;\n",
       "    }\n",
       "\n",
       "    .dataframe tbody tr th {\n",
       "        vertical-align: top;\n",
       "    }\n",
       "\n",
       "    .dataframe thead th {\n",
       "        text-align: right;\n",
       "    }\n",
       "</style>\n",
       "<table border=\"1\" class=\"dataframe\">\n",
       "  <thead>\n",
       "    <tr style=\"text-align: right;\">\n",
       "      <th></th>\n",
       "      <th>mean</th>\n",
       "      <th>median</th>\n",
       "    </tr>\n",
       "    <tr>\n",
       "      <th>год</th>\n",
       "      <th></th>\n",
       "      <th></th>\n",
       "    </tr>\n",
       "  </thead>\n",
       "  <tbody>\n",
       "    <tr>\n",
       "      <th>2009</th>\n",
       "      <td>15.40</td>\n",
       "      <td>12.0</td>\n",
       "    </tr>\n",
       "    <tr>\n",
       "      <th>2010</th>\n",
       "      <td>13.48</td>\n",
       "      <td>12.5</td>\n",
       "    </tr>\n",
       "    <tr>\n",
       "      <th>2011</th>\n",
       "      <td>15.10</td>\n",
       "      <td>13.0</td>\n",
       "    </tr>\n",
       "    <tr>\n",
       "      <th>2012</th>\n",
       "      <td>15.30</td>\n",
       "      <td>13.0</td>\n",
       "    </tr>\n",
       "    <tr>\n",
       "      <th>2013</th>\n",
       "      <td>14.60</td>\n",
       "      <td>12.5</td>\n",
       "    </tr>\n",
       "    <tr>\n",
       "      <th>2014</th>\n",
       "      <td>14.64</td>\n",
       "      <td>10.0</td>\n",
       "    </tr>\n",
       "    <tr>\n",
       "      <th>2015</th>\n",
       "      <td>10.42</td>\n",
       "      <td>9.0</td>\n",
       "    </tr>\n",
       "    <tr>\n",
       "      <th>2016</th>\n",
       "      <td>13.18</td>\n",
       "      <td>9.0</td>\n",
       "    </tr>\n",
       "    <tr>\n",
       "      <th>2017</th>\n",
       "      <td>11.38</td>\n",
       "      <td>9.0</td>\n",
       "    </tr>\n",
       "    <tr>\n",
       "      <th>2018</th>\n",
       "      <td>10.52</td>\n",
       "      <td>8.0</td>\n",
       "    </tr>\n",
       "    <tr>\n",
       "      <th>2019</th>\n",
       "      <td>10.08</td>\n",
       "      <td>10.0</td>\n",
       "    </tr>\n",
       "    <tr>\n",
       "      <th>2020</th>\n",
       "      <td>10.46</td>\n",
       "      <td>10.0</td>\n",
       "    </tr>\n",
       "    <tr>\n",
       "      <th>2021</th>\n",
       "      <td>10.78</td>\n",
       "      <td>10.0</td>\n",
       "    </tr>\n",
       "  </tbody>\n",
       "</table>\n",
       "</div>"
      ],
      "text/plain": [
       "       mean  median\n",
       "год                \n",
       "2009  15.40    12.0\n",
       "2010  13.48    12.5\n",
       "2011  15.10    13.0\n",
       "2012  15.30    13.0\n",
       "2013  14.60    12.5\n",
       "2014  14.64    10.0\n",
       "2015  10.42     9.0\n",
       "2016  13.18     9.0\n",
       "2017  11.38     9.0\n",
       "2018  10.52     8.0\n",
       "2019  10.08    10.0\n",
       "2020  10.46    10.0\n",
       "2021  10.78    10.0"
      ]
     },
     "execution_count": 74,
     "metadata": {},
     "output_type": "execute_result"
    }
   ],
   "source": [
    "books.groupby('год')['цена'].agg(['mean','median'])\n",
    "#бестселлеры 2021 года в среднем стоят дешевле, чем бестселлеры 2009 года "
   ]
  },
  {
   "cell_type": "code",
   "execution_count": 75,
   "id": "4a345e04",
   "metadata": {},
   "outputs": [
    {
     "data": {
      "text/html": [
       "<div>\n",
       "<style scoped>\n",
       "    .dataframe tbody tr th:only-of-type {\n",
       "        vertical-align: middle;\n",
       "    }\n",
       "\n",
       "    .dataframe tbody tr th {\n",
       "        vertical-align: top;\n",
       "    }\n",
       "\n",
       "    .dataframe thead tr th {\n",
       "        text-align: left;\n",
       "    }\n",
       "\n",
       "    .dataframe thead tr:last-of-type th {\n",
       "        text-align: right;\n",
       "    }\n",
       "</style>\n",
       "<table border=\"1\" class=\"dataframe\">\n",
       "  <thead>\n",
       "    <tr>\n",
       "      <th></th>\n",
       "      <th colspan=\"2\" halign=\"left\">mean</th>\n",
       "      <th colspan=\"2\" halign=\"left\">median</th>\n",
       "    </tr>\n",
       "    <tr>\n",
       "      <th></th>\n",
       "      <th>кол-во страниц</th>\n",
       "      <th>цена</th>\n",
       "      <th>кол-во страниц</th>\n",
       "      <th>цена</th>\n",
       "    </tr>\n",
       "    <tr>\n",
       "      <th>год</th>\n",
       "      <th></th>\n",
       "      <th></th>\n",
       "      <th></th>\n",
       "      <th></th>\n",
       "    </tr>\n",
       "  </thead>\n",
       "  <tbody>\n",
       "    <tr>\n",
       "      <th>2009</th>\n",
       "      <td>377.90</td>\n",
       "      <td>15.40</td>\n",
       "      <td>322.5</td>\n",
       "      <td>12.0</td>\n",
       "    </tr>\n",
       "    <tr>\n",
       "      <th>2010</th>\n",
       "      <td>401.02</td>\n",
       "      <td>13.48</td>\n",
       "      <td>359.5</td>\n",
       "      <td>12.5</td>\n",
       "    </tr>\n",
       "    <tr>\n",
       "      <th>2011</th>\n",
       "      <td>415.32</td>\n",
       "      <td>15.10</td>\n",
       "      <td>374.0</td>\n",
       "      <td>13.0</td>\n",
       "    </tr>\n",
       "    <tr>\n",
       "      <th>2012</th>\n",
       "      <td>378.96</td>\n",
       "      <td>15.30</td>\n",
       "      <td>348.0</td>\n",
       "      <td>13.0</td>\n",
       "    </tr>\n",
       "    <tr>\n",
       "      <th>2013</th>\n",
       "      <td>346.18</td>\n",
       "      <td>14.60</td>\n",
       "      <td>309.0</td>\n",
       "      <td>12.5</td>\n",
       "    </tr>\n",
       "    <tr>\n",
       "      <th>2014</th>\n",
       "      <td>322.28</td>\n",
       "      <td>14.64</td>\n",
       "      <td>283.0</td>\n",
       "      <td>10.0</td>\n",
       "    </tr>\n",
       "    <tr>\n",
       "      <th>2015</th>\n",
       "      <td>215.20</td>\n",
       "      <td>10.42</td>\n",
       "      <td>194.0</td>\n",
       "      <td>9.0</td>\n",
       "    </tr>\n",
       "    <tr>\n",
       "      <th>2016</th>\n",
       "      <td>260.22</td>\n",
       "      <td>13.18</td>\n",
       "      <td>248.0</td>\n",
       "      <td>9.0</td>\n",
       "    </tr>\n",
       "    <tr>\n",
       "      <th>2017</th>\n",
       "      <td>236.98</td>\n",
       "      <td>11.38</td>\n",
       "      <td>240.0</td>\n",
       "      <td>9.0</td>\n",
       "    </tr>\n",
       "    <tr>\n",
       "      <th>2018</th>\n",
       "      <td>233.08</td>\n",
       "      <td>10.52</td>\n",
       "      <td>248.5</td>\n",
       "      <td>8.0</td>\n",
       "    </tr>\n",
       "    <tr>\n",
       "      <th>2019</th>\n",
       "      <td>221.42</td>\n",
       "      <td>10.08</td>\n",
       "      <td>224.0</td>\n",
       "      <td>10.0</td>\n",
       "    </tr>\n",
       "    <tr>\n",
       "      <th>2020</th>\n",
       "      <td>249.16</td>\n",
       "      <td>10.46</td>\n",
       "      <td>238.0</td>\n",
       "      <td>10.0</td>\n",
       "    </tr>\n",
       "    <tr>\n",
       "      <th>2021</th>\n",
       "      <td>271.12</td>\n",
       "      <td>10.78</td>\n",
       "      <td>237.0</td>\n",
       "      <td>10.0</td>\n",
       "    </tr>\n",
       "  </tbody>\n",
       "</table>\n",
       "</div>"
      ],
      "text/plain": [
       "               mean                median      \n",
       "     кол-во страниц   цена кол-во страниц  цена\n",
       "год                                            \n",
       "2009         377.90  15.40          322.5  12.0\n",
       "2010         401.02  13.48          359.5  12.5\n",
       "2011         415.32  15.10          374.0  13.0\n",
       "2012         378.96  15.30          348.0  13.0\n",
       "2013         346.18  14.60          309.0  12.5\n",
       "2014         322.28  14.64          283.0  10.0\n",
       "2015         215.20  10.42          194.0   9.0\n",
       "2016         260.22  13.18          248.0   9.0\n",
       "2017         236.98  11.38          240.0   9.0\n",
       "2018         233.08  10.52          248.5   8.0\n",
       "2019         221.42  10.08          224.0  10.0\n",
       "2020         249.16  10.46          238.0  10.0\n",
       "2021         271.12  10.78          237.0  10.0"
      ]
     },
     "execution_count": 75,
     "metadata": {},
     "output_type": "execute_result"
    }
   ],
   "source": [
    "books.pivot_table(index='год',\n",
    "                 values=['цена','кол-во страниц'],\n",
    "                  aggfunc=['mean','median'])\n",
    "\n",
    "# В книгах 2021 года в среднем было меньше страниц, чем в книгах 2009 года. \n",
    "# Поэтому гипотеза о зависимости года и цен отклоняется"
   ]
  },
  {
   "cell_type": "code",
   "execution_count": null,
   "id": "c890e82f",
   "metadata": {},
   "outputs": [],
   "source": []
  },
  {
   "cell_type": "code",
   "execution_count": null,
   "id": "f0a08066",
   "metadata": {},
   "outputs": [],
   "source": []
  },
  {
   "cell_type": "code",
   "execution_count": null,
   "id": "c01fc26b",
   "metadata": {},
   "outputs": [],
   "source": []
  }
 ],
 "metadata": {
  "kernelspec": {
   "display_name": "Python 3 (ipykernel)",
   "language": "python",
   "name": "python3"
  },
  "language_info": {
   "codemirror_mode": {
    "name": "ipython",
    "version": 3
   },
   "file_extension": ".py",
   "mimetype": "text/x-python",
   "name": "python",
   "nbconvert_exporter": "python",
   "pygments_lexer": "ipython3",
   "version": "3.9.12"
  }
 },
 "nbformat": 4,
 "nbformat_minor": 5
}
